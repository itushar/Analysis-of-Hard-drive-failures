{
  "nbformat": 4,
  "nbformat_minor": 0,
  "metadata": {
    "colab": {
      "name": "Analysis.ipynb",
      "version": "0.3.2",
      "provenance": [],
      "collapsed_sections": []
    },
    "kernelspec": {
      "name": "python3",
      "display_name": "Python 3"
    }
  },
  "cells": [
    {
      "cell_type": "code",
      "metadata": {
        "id": "GpxeptnqxWgC",
        "colab_type": "code",
        "outputId": "3e9ad260-039f-4a47-dc02-d9eddc701114",
        "colab": {
          "base_uri": "https://localhost:8080/",
          "height": 35
        }
      },
      "source": [
        "from google.colab import drive\n",
        "drive.mount('/content/drive')"
      ],
      "execution_count": 0,
      "outputs": [
        {
          "output_type": "stream",
          "text": [
            "Drive already mounted at /content/drive; to attempt to forcibly remount, call drive.mount(\"/content/drive\", force_remount=True).\n"
          ],
          "name": "stdout"
        }
      ]
    },
    {
      "cell_type": "code",
      "metadata": {
        "id": "8HHVAGqxxdJ1",
        "colab_type": "code",
        "colab": {}
      },
      "source": [
        "import pandas as pd\n",
        "\n",
        "df = pd.read_csv(\"/content/drive/My Drive/SeagateModel.csv\")"
      ],
      "execution_count": 0,
      "outputs": []
    },
    {
      "cell_type": "code",
      "metadata": {
        "id": "e7vclYtp4nS1",
        "colab_type": "code",
        "outputId": "960cc729-246c-4e16-ee2b-8ef78553810a",
        "colab": {
          "base_uri": "https://localhost:8080/",
          "height": 69
        }
      },
      "source": [
        "df.failure.value_counts()"
      ],
      "execution_count": 0,
      "outputs": [
        {
          "output_type": "execute_result",
          "data": {
            "text/plain": [
              "0    9991781\n",
              "1        581\n",
              "Name: failure, dtype: int64"
            ]
          },
          "metadata": {
            "tags": []
          },
          "execution_count": 5
        }
      ]
    },
    {
      "cell_type": "code",
      "metadata": {
        "id": "MBxRQV-CthDS",
        "colab_type": "code",
        "outputId": "f3e51eda-ced5-4b9d-b2c4-98621c0e658c",
        "colab": {
          "base_uri": "https://localhost:8080/",
          "height": 35
        }
      },
      "source": [
        "df.serial_number.nunique()"
      ],
      "execution_count": 0,
      "outputs": [
        {
          "output_type": "execute_result",
          "data": {
            "text/plain": [
              "32164"
            ]
          },
          "metadata": {
            "tags": []
          },
          "execution_count": 6
        }
      ]
    },
    {
      "cell_type": "code",
      "metadata": {
        "id": "3aBcFpxCzP3Y",
        "colab_type": "code",
        "outputId": "7fcf13c5-837f-49b0-808b-2686e1d3d7de",
        "colab": {
          "base_uri": "https://localhost:8080/",
          "height": 364
        }
      },
      "source": [
        "df['date'] =  pd.to_datetime(df['date'])\n",
        "df.dtypes"
      ],
      "execution_count": 0,
      "outputs": [
        {
          "output_type": "execute_result",
          "data": {
            "text/plain": [
              "date              datetime64[ns]\n",
              "serial_number             object\n",
              "model                     object\n",
              "capacity_bytes             int64\n",
              "failure                    int64\n",
              "smart_5_raw              float64\n",
              "smart_10_raw             float64\n",
              "smart_12_raw             float64\n",
              "smart_184_raw            float64\n",
              "smart_187_raw            float64\n",
              "smart_188_raw            float64\n",
              "smart_189_raw            float64\n",
              "smart_190_raw            float64\n",
              "smart_196_raw            float64\n",
              "smart_197_raw            float64\n",
              "smart_198_raw            float64\n",
              "smart_199_raw            float64\n",
              "smart_200_raw            float64\n",
              "smart_201_raw            float64\n",
              "dtype: object"
            ]
          },
          "metadata": {
            "tags": []
          },
          "execution_count": 7
        }
      ]
    },
    {
      "cell_type": "markdown",
      "metadata": {
        "id": "MU3-DIzV0OVX",
        "colab_type": "text"
      },
      "source": [
        "Let's get all the instances where the hard drive fails"
      ]
    },
    {
      "cell_type": "code",
      "metadata": {
        "id": "Ne_bw4Ps0GnX",
        "colab_type": "code",
        "outputId": "2369cef0-b357-4130-e6bb-281d21dda16d",
        "colab": {
          "base_uri": "https://localhost:8080/",
          "height": 35
        }
      },
      "source": [
        "df_fails = df[df[\"failure\"]==1]\n",
        "df_fails.shape"
      ],
      "execution_count": 0,
      "outputs": [
        {
          "output_type": "execute_result",
          "data": {
            "text/plain": [
              "(581, 19)"
            ]
          },
          "metadata": {
            "tags": []
          },
          "execution_count": 8
        }
      ]
    },
    {
      "cell_type": "markdown",
      "metadata": {
        "id": "1ulYiquI0Zq5",
        "colab_type": "text"
      },
      "source": [
        "Failures per month"
      ]
    },
    {
      "cell_type": "code",
      "metadata": {
        "id": "mbJO_CTM0BOL",
        "colab_type": "code",
        "colab": {}
      },
      "source": [
        "failure_count = df_fails.groupby(df_fails['date'].dt.strftime('%b')).size()"
      ],
      "execution_count": 0,
      "outputs": []
    },
    {
      "cell_type": "code",
      "metadata": {
        "id": "GfUGZjNQ2WpC",
        "colab_type": "code",
        "outputId": "86fd0068-97f4-4137-beda-6df32cd06b53",
        "colab": {
          "base_uri": "https://localhost:8080/",
          "height": 260
        }
      },
      "source": [
        "failure_count.sort_values()"
      ],
      "execution_count": 0,
      "outputs": [
        {
          "output_type": "execute_result",
          "data": {
            "text/plain": [
              "date\n",
              "Apr    29\n",
              "Dec    35\n",
              "Mar    41\n",
              "Nov    43\n",
              "Oct    43\n",
              "Sep    45\n",
              "Aug    46\n",
              "Jun    52\n",
              "May    53\n",
              "Jul    57\n",
              "Feb    63\n",
              "Jan    74\n",
              "dtype: int64"
            ]
          },
          "metadata": {
            "tags": []
          },
          "execution_count": 10
        }
      ]
    },
    {
      "cell_type": "code",
      "metadata": {
        "id": "uoSv7MDK4GGW",
        "colab_type": "code",
        "colab": {}
      },
      "source": [
        "#Serial Numbers of Failed Drives\n",
        "serial_withFailure = df_fails[\"serial_number\"]"
      ],
      "execution_count": 0,
      "outputs": []
    },
    {
      "cell_type": "code",
      "metadata": {
        "id": "CZp8pQ5a4LHJ",
        "colab_type": "code",
        "colab": {}
      },
      "source": [
        "#Putting it into a list\n",
        "failure_list = list(serial_withFailure)"
      ],
      "execution_count": 0,
      "outputs": []
    },
    {
      "cell_type": "code",
      "metadata": {
        "id": "nOKo2Gtn4NAW",
        "colab_type": "code",
        "colab": {}
      },
      "source": [
        "#Getting all rows for serial numbers which eventually fail\n",
        "sure_failure = df[df[\"serial_number\"].isin(failure_list)]"
      ],
      "execution_count": 0,
      "outputs": []
    },
    {
      "cell_type": "code",
      "metadata": {
        "id": "cNUldq5-4toS",
        "colab_type": "code",
        "outputId": "5446d067-b951-4c85-e205-26235a60c895",
        "colab": {
          "base_uri": "https://localhost:8080/",
          "height": 35
        }
      },
      "source": [
        "sure_failure.serial_number.nunique()"
      ],
      "execution_count": 0,
      "outputs": [
        {
          "output_type": "execute_result",
          "data": {
            "text/plain": [
              "581"
            ]
          },
          "metadata": {
            "tags": []
          },
          "execution_count": 14
        }
      ]
    },
    {
      "cell_type": "markdown",
      "metadata": {
        "id": "qwPZltJa4-kq",
        "colab_type": "text"
      },
      "source": [
        "Now we can analyse the trends for some of the serial numbers"
      ]
    },
    {
      "cell_type": "code",
      "metadata": {
        "id": "97nUzXhT469k",
        "colab_type": "code",
        "outputId": "3dc400d5-cc7d-4c0b-84d4-6cbedf971dc0",
        "colab": {
          "base_uri": "https://localhost:8080/",
          "height": 309
        }
      },
      "source": [
        "sure_failure.tail()"
      ],
      "execution_count": 0,
      "outputs": [
        {
          "output_type": "execute_result",
          "data": {
            "text/html": [
              "<div>\n",
              "<style scoped>\n",
              "    .dataframe tbody tr th:only-of-type {\n",
              "        vertical-align: middle;\n",
              "    }\n",
              "\n",
              "    .dataframe tbody tr th {\n",
              "        vertical-align: top;\n",
              "    }\n",
              "\n",
              "    .dataframe thead th {\n",
              "        text-align: right;\n",
              "    }\n",
              "</style>\n",
              "<table border=\"1\" class=\"dataframe\">\n",
              "  <thead>\n",
              "    <tr style=\"text-align: right;\">\n",
              "      <th></th>\n",
              "      <th>date</th>\n",
              "      <th>serial_number</th>\n",
              "      <th>model</th>\n",
              "      <th>capacity_bytes</th>\n",
              "      <th>failure</th>\n",
              "      <th>smart_5_raw</th>\n",
              "      <th>smart_10_raw</th>\n",
              "      <th>smart_12_raw</th>\n",
              "      <th>smart_184_raw</th>\n",
              "      <th>smart_187_raw</th>\n",
              "      <th>smart_188_raw</th>\n",
              "      <th>smart_189_raw</th>\n",
              "      <th>smart_190_raw</th>\n",
              "      <th>smart_196_raw</th>\n",
              "      <th>smart_197_raw</th>\n",
              "      <th>smart_198_raw</th>\n",
              "      <th>smart_199_raw</th>\n",
              "      <th>smart_200_raw</th>\n",
              "      <th>smart_201_raw</th>\n",
              "    </tr>\n",
              "  </thead>\n",
              "  <tbody>\n",
              "    <tr>\n",
              "      <th>9936635</th>\n",
              "      <td>2018-12-29</td>\n",
              "      <td>Z3025L0M</td>\n",
              "      <td>ST4000DM000</td>\n",
              "      <td>4000787030016</td>\n",
              "      <td>0</td>\n",
              "      <td>72.0</td>\n",
              "      <td>0.0</td>\n",
              "      <td>14.0</td>\n",
              "      <td>NaN</td>\n",
              "      <td>NaN</td>\n",
              "      <td>NaN</td>\n",
              "      <td>NaN</td>\n",
              "      <td>NaN</td>\n",
              "      <td>1.0</td>\n",
              "      <td>0.0</td>\n",
              "      <td>26.0</td>\n",
              "      <td>0.0</td>\n",
              "      <td>2.0</td>\n",
              "      <td>647475.0</td>\n",
              "    </tr>\n",
              "    <tr>\n",
              "      <th>9941449</th>\n",
              "      <td>2018-12-29</td>\n",
              "      <td>S300VL9M</td>\n",
              "      <td>ST4000DM000</td>\n",
              "      <td>4000787030016</td>\n",
              "      <td>1</td>\n",
              "      <td>0.0</td>\n",
              "      <td>0.0</td>\n",
              "      <td>11.0</td>\n",
              "      <td>NaN</td>\n",
              "      <td>NaN</td>\n",
              "      <td>NaN</td>\n",
              "      <td>NaN</td>\n",
              "      <td>NaN</td>\n",
              "      <td>0.0</td>\n",
              "      <td>0.0</td>\n",
              "      <td>23.0</td>\n",
              "      <td>0.0</td>\n",
              "      <td>1.0</td>\n",
              "      <td>37764.0</td>\n",
              "    </tr>\n",
              "    <tr>\n",
              "      <th>9953375</th>\n",
              "      <td>2018-12-30</td>\n",
              "      <td>S300Z61D</td>\n",
              "      <td>ST4000DM000</td>\n",
              "      <td>4000787030016</td>\n",
              "      <td>1</td>\n",
              "      <td>0.0</td>\n",
              "      <td>0.0</td>\n",
              "      <td>4.0</td>\n",
              "      <td>NaN</td>\n",
              "      <td>NaN</td>\n",
              "      <td>NaN</td>\n",
              "      <td>NaN</td>\n",
              "      <td>NaN</td>\n",
              "      <td>1.0</td>\n",
              "      <td>0.0</td>\n",
              "      <td>16.0</td>\n",
              "      <td>0.0</td>\n",
              "      <td>0.0</td>\n",
              "      <td>38454.0</td>\n",
              "    </tr>\n",
              "    <tr>\n",
              "      <th>9955485</th>\n",
              "      <td>2018-12-30</td>\n",
              "      <td>Z302AYKZ</td>\n",
              "      <td>ST4000DM000</td>\n",
              "      <td>4000787030016</td>\n",
              "      <td>1</td>\n",
              "      <td>1856.0</td>\n",
              "      <td>0.0</td>\n",
              "      <td>2.0</td>\n",
              "      <td>NaN</td>\n",
              "      <td>NaN</td>\n",
              "      <td>NaN</td>\n",
              "      <td>NaN</td>\n",
              "      <td>NaN</td>\n",
              "      <td>0.0</td>\n",
              "      <td>0.0</td>\n",
              "      <td>19.0</td>\n",
              "      <td>0.0</td>\n",
              "      <td>0.0</td>\n",
              "      <td>55556.0</td>\n",
              "    </tr>\n",
              "    <tr>\n",
              "      <th>9959872</th>\n",
              "      <td>2018-12-30</td>\n",
              "      <td>Z3025L0M</td>\n",
              "      <td>ST4000DM000</td>\n",
              "      <td>4000787030016</td>\n",
              "      <td>1</td>\n",
              "      <td>2424.0</td>\n",
              "      <td>0.0</td>\n",
              "      <td>14.0</td>\n",
              "      <td>NaN</td>\n",
              "      <td>NaN</td>\n",
              "      <td>NaN</td>\n",
              "      <td>NaN</td>\n",
              "      <td>NaN</td>\n",
              "      <td>1.0</td>\n",
              "      <td>0.0</td>\n",
              "      <td>26.0</td>\n",
              "      <td>0.0</td>\n",
              "      <td>2.0</td>\n",
              "      <td>647477.0</td>\n",
              "    </tr>\n",
              "  </tbody>\n",
              "</table>\n",
              "</div>"
            ],
            "text/plain": [
              "              date serial_number  ... smart_200_raw  smart_201_raw\n",
              "9936635 2018-12-29      Z3025L0M  ...           2.0       647475.0\n",
              "9941449 2018-12-29      S300VL9M  ...           1.0        37764.0\n",
              "9953375 2018-12-30      S300Z61D  ...           0.0        38454.0\n",
              "9955485 2018-12-30      Z302AYKZ  ...           0.0        55556.0\n",
              "9959872 2018-12-30      Z3025L0M  ...           2.0       647477.0\n",
              "\n",
              "[5 rows x 19 columns]"
            ]
          },
          "metadata": {
            "tags": []
          },
          "execution_count": 16
        }
      ]
    },
    {
      "cell_type": "code",
      "metadata": {
        "id": "fpZP4fsD5Tg4",
        "colab_type": "code",
        "colab": {}
      },
      "source": [
        "import matplotlib.pyplot as plt\n",
        "%matplotlib inline\n",
        "import seaborn as sns\n",
        "from pandas.plotting import register_matplotlib_converters\n"
      ],
      "execution_count": 0,
      "outputs": []
    },
    {
      "cell_type": "markdown",
      "metadata": {
        "id": "HUDQDA2A50dP",
        "colab_type": "text"
      },
      "source": [
        "**Serial Number - S301GMGW**"
      ]
    },
    {
      "cell_type": "code",
      "metadata": {
        "id": "2XhRggwI5rzc",
        "colab_type": "code",
        "colab": {}
      },
      "source": [
        "s1 = sure_failure[sure_failure[\"serial_number\"]==\"S301GMGW\"]"
      ],
      "execution_count": 0,
      "outputs": []
    },
    {
      "cell_type": "code",
      "metadata": {
        "id": "KUkxxORP592C",
        "colab_type": "code",
        "outputId": "6412a9b2-95ba-4589-af88-d84b59a3d724",
        "colab": {
          "base_uri": "https://localhost:8080/",
          "height": 349
        }
      },
      "source": [
        "sns.lineplot(data=s1, x=\"date\", y=\"smart_12_raw\", label=\"smart_12\")\n",
        "sns.lineplot(data=s1, x=\"date\", y=\"smart_196_raw\", label=\"smart_196\")\n",
        "sns.lineplot(data=s1, x=\"date\", y=\"smart_198_raw\", label=\"smart_198\")\n",
        "plt.xticks(rotation='vertical')\n",
        "plt.xlabel(\"Date\")\n",
        "plt.ylabel(\"Raw SMART value\")\n",
        "plt.figure(figsize=(22,6))\n"
      ],
      "execution_count": 0,
      "outputs": [
        {
          "output_type": "execute_result",
          "data": {
            "text/plain": [
              "<Figure size 1584x432 with 0 Axes>"
            ]
          },
          "metadata": {
            "tags": []
          },
          "execution_count": 21
        },
        {
          "output_type": "display_data",
          "data": {
            "image/png": "[encoded data removed]",
            "text/plain": [
              "<Figure size 432x288 with 1 Axes>"
            ]
          },
          "metadata": {
            "tags": []
          }
        },
        {
          "output_type": "display_data",
          "data": {
            "text/plain": [
              "<Figure size 1584x432 with 0 Axes>"
            ]
          },
          "metadata": {
            "tags": []
          }
        }
      ]
    },
    {
      "cell_type": "code",
      "metadata": {
        "id": "yJjI2r006FX5",
        "colab_type": "code",
        "outputId": "7cbcc8f7-1b08-45bf-8c69-319055bc0f2e",
        "colab": {
          "base_uri": "https://localhost:8080/",
          "height": 349
        }
      },
      "source": [
        "sns.lineplot(data=s1, x=\"date\", y=\"smart_201_raw\")\n",
        "plt.xticks(rotation='vertical')\n",
        "plt.xlabel(\"Date\")\n",
        "plt.ylabel(\"Raw SMART 201 value\")\n",
        "plt.figure(figsize=(22,6))"
      ],
      "execution_count": 0,
      "outputs": [
        {
          "output_type": "execute_result",
          "data": {
            "text/plain": [
              "<Figure size 1584x432 with 0 Axes>"
            ]
          },
          "metadata": {
            "tags": []
          },
          "execution_count": 22
        },
        {
          "output_type": "display_data",
          "data": {
            "image/png": "[encoded data removed]",
            "text/plain": [
              "<Figure size 432x288 with 1 Axes>"
            ]
          },
          "metadata": {
            "tags": []
          }
        },
        {
          "output_type": "display_data",
          "data": {
            "text/plain": [
              "<Figure size 1584x432 with 0 Axes>"
            ]
          },
          "metadata": {
            "tags": []
          }
        }
      ]
    },
    {
      "cell_type": "markdown",
      "metadata": {
        "id": "9UYp6lLiAI9m",
        "colab_type": "text"
      },
      "source": [
        ""
      ]
    },
    {
      "cell_type": "markdown",
      "metadata": {
        "id": "ntrVOcl987R7",
        "colab_type": "text"
      },
      "source": [
        "**Serial Number - Z300X8BY**"
      ]
    },
    {
      "cell_type": "code",
      "metadata": {
        "id": "_Vu9nmCx8rmJ",
        "colab_type": "code",
        "colab": {}
      },
      "source": [
        "s2 = sure_failure[sure_failure[\"serial_number\"]==\"Z300X8BY\"]"
      ],
      "execution_count": 0,
      "outputs": []
    },
    {
      "cell_type": "code",
      "metadata": {
        "id": "7kY8Ck3l9DZp",
        "colab_type": "code",
        "outputId": "3f119a58-205e-401b-b7c0-f700ddeaade0",
        "colab": {
          "base_uri": "https://localhost:8080/",
          "height": 366
        }
      },
      "source": [
        "sns.lineplot(data=s2, x=\"date\", y=\"smart_12_raw\", label=\"smart_12\")\n",
        "sns.lineplot(data=s2, x=\"date\", y=\"smart_196_raw\", label=\"smart_196\")\n",
        "sns.lineplot(data=s2, x=\"date\", y=\"smart_198_raw\", label=\"smart_198\")\n",
        "plt.xlabel(\"Date\")\n",
        "plt.ylabel(\"Raw SMART value\")\n",
        "plt.xticks(rotation='vertical')\n",
        "plt.figure(figsize=(22,6))"
      ],
      "execution_count": 0,
      "outputs": [
        {
          "output_type": "execute_result",
          "data": {
            "text/plain": [
              "<Figure size 1584x432 with 0 Axes>"
            ]
          },
          "metadata": {
            "tags": []
          },
          "execution_count": 32
        },
        {
          "output_type": "display_data",
          "data": {
            "image/png": "[encoded data removed]",
            "text/plain": [
              "<Figure size 432x288 with 1 Axes>"
            ]
          },
          "metadata": {
            "tags": []
          }
        },
        {
          "output_type": "display_data",
          "data": {
            "text/plain": [
              "<Figure size 1584x432 with 0 Axes>"
            ]
          },
          "metadata": {
            "tags": []
          }
        }
      ]
    },
    {
      "cell_type": "code",
      "metadata": {
        "id": "jwesq3Cq9IpA",
        "colab_type": "code",
        "outputId": "e659d83b-b1be-4e17-8acd-290c89af1492",
        "colab": {
          "base_uri": "https://localhost:8080/",
          "height": 338
        }
      },
      "source": [
        "sns.lineplot(data=s2, x=\"date\", y=\"smart_201_raw\")\n",
        "plt.xticks(rotation='vertical')\n",
        "plt.ylabel(\"Raw SMART 201 value\")\n",
        "plt.figure(figsize=(22,6))"
      ],
      "execution_count": 0,
      "outputs": [
        {
          "output_type": "execute_result",
          "data": {
            "text/plain": [
              "<Figure size 1584x432 with 0 Axes>"
            ]
          },
          "metadata": {
            "tags": []
          },
          "execution_count": 34
        },
        {
          "output_type": "display_data",
          "data": {
            "image/png": "[encoded data removed]",
            "text/plain": [
              "<Figure size 432x288 with 1 Axes>"
            ]
          },
          "metadata": {
            "tags": []
          }
        },
        {
          "output_type": "display_data",
          "data": {
            "text/plain": [
              "<Figure size 1584x432 with 0 Axes>"
            ]
          },
          "metadata": {
            "tags": []
          }
        }
      ]
    },
    {
      "cell_type": "markdown",
      "metadata": {
        "id": "amVcbKTP99_j",
        "colab_type": "text"
      },
      "source": [
        "**Serial Number - S300VL9M**"
      ]
    },
    {
      "cell_type": "code",
      "metadata": {
        "id": "l-xWEE5Q9hnD",
        "colab_type": "code",
        "colab": {}
      },
      "source": [
        "s3 = sure_failure[sure_failure[\"serial_number\"]==\"S300VL9M\"]"
      ],
      "execution_count": 0,
      "outputs": []
    },
    {
      "cell_type": "code",
      "metadata": {
        "id": "Q4Y0RPrk-R_t",
        "colab_type": "code",
        "outputId": "ebb911a1-c7fd-4d64-a388-9b119929777a",
        "colab": {
          "base_uri": "https://localhost:8080/",
          "height": 349
        }
      },
      "source": [
        "sns.lineplot(data=s3, x=\"date\", y=\"smart_12_raw\", label=\"smart_12\")\n",
        "sns.lineplot(data=s3, x=\"date\", y=\"smart_196_raw\", label=\"smart_196\")\n",
        "sns.lineplot(data=s3, x=\"date\", y=\"smart_198_raw\", label=\"smart_198\")\n",
        "plt.xlabel(\"Date\")\n",
        "plt.ylabel(\"Raw SMART value\")\n",
        "plt.xticks(rotation='vertical')\n",
        "plt.figure(figsize=(22,6))"
      ],
      "execution_count": 0,
      "outputs": [
        {
          "output_type": "execute_result",
          "data": {
            "text/plain": [
              "<Figure size 1584x432 with 0 Axes>"
            ]
          },
          "metadata": {
            "tags": []
          },
          "execution_count": 37
        },
        {
          "output_type": "display_data",
          "data": {
            "image/png": "[encoded data removed]",
            "text/plain": [
              "<Figure size 432x288 with 1 Axes>"
            ]
          },
          "metadata": {
            "tags": []
          }
        },
        {
          "output_type": "display_data",
          "data": {
            "text/plain": [
              "<Figure size 1584x432 with 0 Axes>"
            ]
          },
          "metadata": {
            "tags": []
          }
        }
      ]
    },
    {
      "cell_type": "code",
      "metadata": {
        "id": "zYae_VizNmpr",
        "colab_type": "code",
        "outputId": "698a3a30-bb7b-4940-caca-777035c97a19",
        "colab": {
          "base_uri": "https://localhost:8080/",
          "height": 349
        }
      },
      "source": [
        "sns.lineplot(data=s3, x=\"date\", y=\"smart_201_raw\")\n",
        "plt.ylabel(\"Raw SMART 201 value\")\n",
        "plt.xticks(rotation='vertical')\n",
        "plt.figure(figsize=(22,6))"
      ],
      "execution_count": 0,
      "outputs": [
        {
          "output_type": "execute_result",
          "data": {
            "text/plain": [
              "<Figure size 1584x432 with 0 Axes>"
            ]
          },
          "metadata": {
            "tags": []
          },
          "execution_count": 38
        },
        {
          "output_type": "display_data",
          "data": {
            "image/png": "[encoded data removed]",
            "text/plain": [
              "<Figure size 432x288 with 1 Axes>"
            ]
          },
          "metadata": {
            "tags": []
          }
        },
        {
          "output_type": "display_data",
          "data": {
            "text/plain": [
              "<Figure size 1584x432 with 0 Axes>"
            ]
          },
          "metadata": {
            "tags": []
          }
        }
      ]
    },
    {
      "cell_type": "markdown",
      "metadata": {
        "id": "rlZrm2SXA9FA",
        "colab_type": "text"
      },
      "source": [
        "**Serial Number - Z3025L0M**"
      ]
    },
    {
      "cell_type": "code",
      "metadata": {
        "id": "dzwmw8hW-lBn",
        "colab_type": "code",
        "colab": {}
      },
      "source": [
        "s4 = sure_failure[sure_failure[\"serial_number\"]==\"Z3025L0M\"]"
      ],
      "execution_count": 0,
      "outputs": []
    },
    {
      "cell_type": "code",
      "metadata": {
        "id": "8etT-5OUBJMn",
        "colab_type": "code",
        "outputId": "842b9b74-014a-4a11-af8a-98483b9c2bc4",
        "colab": {
          "base_uri": "https://localhost:8080/",
          "height": 349
        }
      },
      "source": [
        "sns.lineplot(data=s4, x=\"date\", y=\"smart_12_raw\", label=\"smart_12\")\n",
        "sns.lineplot(data=s4, x=\"date\", y=\"smart_196_raw\", label=\"smart_196\")\n",
        "sns.lineplot(data=s4, x=\"date\", y=\"smart_198_raw\", label=\"smart_198\")\n",
        "plt.xlabel(\"Date\")\n",
        "plt.ylabel(\"Raw SMART value\")\n",
        "plt.xticks(rotation='vertical')\n",
        "plt.figure(figsize=(22,6))"
      ],
      "execution_count": 0,
      "outputs": [
        {
          "output_type": "execute_result",
          "data": {
            "text/plain": [
              "<Figure size 1584x432 with 0 Axes>"
            ]
          },
          "metadata": {
            "tags": []
          },
          "execution_count": 40
        },
        {
          "output_type": "display_data",
          "data": {
            "image/png": "[encoded data removed]",
            "text/plain": [
              "<Figure size 432x288 with 1 Axes>"
            ]
          },
          "metadata": {
            "tags": []
          }
        },
        {
          "output_type": "display_data",
          "data": {
            "text/plain": [
              "<Figure size 1584x432 with 0 Axes>"
            ]
          },
          "metadata": {
            "tags": []
          }
        }
      ]
    },
    {
      "cell_type": "code",
      "metadata": {
        "id": "BuvDTQt0BJhD",
        "colab_type": "code",
        "outputId": "b3231602-ad81-4b44-d202-ce15fbe4abf3",
        "colab": {
          "base_uri": "https://localhost:8080/",
          "height": 349
        }
      },
      "source": [
        "sns.lineplot(data=s4, x=\"date\", y=\"smart_201_raw\")\n",
        "plt.ylabel(\"Raw SMART 201 value\")\n",
        "plt.xticks(rotation='vertical')\n",
        "plt.figure(figsize=(22,6))"
      ],
      "execution_count": 0,
      "outputs": [
        {
          "output_type": "execute_result",
          "data": {
            "text/plain": [
              "<Figure size 1584x432 with 0 Axes>"
            ]
          },
          "metadata": {
            "tags": []
          },
          "execution_count": 42
        },
        {
          "output_type": "display_data",
          "data": {
            "image/png": "[encoded data removed]",
            "text/plain": [
              "<Figure size 432x288 with 1 Axes>"
            ]
          },
          "metadata": {
            "tags": []
          }
        },
        {
          "output_type": "display_data",
          "data": {
            "text/plain": [
              "<Figure size 1584x432 with 0 Axes>"
            ]
          },
          "metadata": {
            "tags": []
          }
        }
      ]
    },
    {
      "cell_type": "markdown",
      "metadata": {
        "id": "UfSLA1DcEYW9",
        "colab_type": "text"
      },
      "source": [
        "**Serial Number - Z304KR3C**"
      ]
    },
    {
      "cell_type": "code",
      "metadata": {
        "id": "uqhuicRCBmWO",
        "colab_type": "code",
        "colab": {}
      },
      "source": [
        "s5 = sure_failure[sure_failure[\"serial_number\"]==\"Z304KR3C\"]"
      ],
      "execution_count": 0,
      "outputs": []
    },
    {
      "cell_type": "code",
      "metadata": {
        "id": "P6G7XKmkEpRo",
        "colab_type": "code",
        "outputId": "0951fa4b-5df3-453f-fc57-ec815fc7d5fc",
        "colab": {
          "base_uri": "https://localhost:8080/",
          "height": 349
        }
      },
      "source": [
        "sns.lineplot(data=s5, x=\"date\", y=\"smart_12_raw\", label=\"smart_12\")\n",
        "sns.lineplot(data=s5, x=\"date\", y=\"smart_196_raw\", label=\"smart_196\")\n",
        "sns.lineplot(data=s5, x=\"date\", y=\"smart_198_raw\", label=\"smart_198\")\n",
        "plt.xlabel(\"Date\")\n",
        "plt.ylabel(\"Raw SMART value\")\n",
        "plt.xticks(rotation='vertical')\n",
        "plt.figure(figsize=(22,6))"
      ],
      "execution_count": 0,
      "outputs": [
        {
          "output_type": "execute_result",
          "data": {
            "text/plain": [
              "<Figure size 1584x432 with 0 Axes>"
            ]
          },
          "metadata": {
            "tags": []
          },
          "execution_count": 45
        },
        {
          "output_type": "display_data",
          "data": {
            "image/png": "[encoded data removed]",
            "text/plain": [
              "<Figure size 432x288 with 1 Axes>"
            ]
          },
          "metadata": {
            "tags": []
          }
        },
        {
          "output_type": "display_data",
          "data": {
            "text/plain": [
              "<Figure size 1584x432 with 0 Axes>"
            ]
          },
          "metadata": {
            "tags": []
          }
        }
      ]
    },
    {
      "cell_type": "code",
      "metadata": {
        "id": "Vn1omf94Ep1N",
        "colab_type": "code",
        "outputId": "46ce6855-3513-4b06-e1c2-cd881580ef4b",
        "colab": {
          "base_uri": "https://localhost:8080/",
          "height": 349
        }
      },
      "source": [
        "sns.lineplot(data=s5, x=\"date\", y=\"smart_201_raw\")\n",
        "plt.ylabel(\"Raw SMART 201 value\")\n",
        "plt.xticks(rotation='vertical')\n",
        "plt.figure(figsize=(22,6))"
      ],
      "execution_count": 0,
      "outputs": [
        {
          "output_type": "execute_result",
          "data": {
            "text/plain": [
              "<Figure size 1584x432 with 0 Axes>"
            ]
          },
          "metadata": {
            "tags": []
          },
          "execution_count": 46
        },
        {
          "output_type": "display_data",
          "data": {
            "image/png": "[encoded data removed]",
            "text/plain": [
              "<Figure size 432x288 with 1 Axes>"
            ]
          },
          "metadata": {
            "tags": []
          }
        },
        {
          "output_type": "display_data",
          "data": {
            "text/plain": [
              "<Figure size 1584x432 with 0 Axes>"
            ]
          },
          "metadata": {
            "tags": []
          }
        }
      ]
    },
    {
      "cell_type": "markdown",
      "metadata": {
        "id": "ck3Bx01qFUsf",
        "colab_type": "text"
      },
      "source": [
        "Note : - \n",
        "1. Smart 201 and Smart 196 move from null to numeric values few months before a failure.\n",
        "2. Smart 199 also shows a small bump in value when Smart 201 and 196 appear.\n",
        "3. Some of the hardrive have nulls for most of the Smart stats and show no change before failure (Could be due to incorrectly recorded stats)"
      ]
    },
    {
      "cell_type": "code",
      "metadata": {
        "id": "960IighyIC8P",
        "colab_type": "code",
        "outputId": "b5d121e8-ae03-4528-bad6-e0cb978137d4",
        "colab": {
          "base_uri": "https://localhost:8080/",
          "height": 314
        }
      },
      "source": [
        "s1.describe()"
      ],
      "execution_count": 0,
      "outputs": [
        {
          "output_type": "execute_result",
          "data": {
            "text/html": [
              "<div>\n",
              "<style scoped>\n",
              "    .dataframe tbody tr th:only-of-type {\n",
              "        vertical-align: middle;\n",
              "    }\n",
              "\n",
              "    .dataframe tbody tr th {\n",
              "        vertical-align: top;\n",
              "    }\n",
              "\n",
              "    .dataframe thead th {\n",
              "        text-align: right;\n",
              "    }\n",
              "</style>\n",
              "<table border=\"1\" class=\"dataframe\">\n",
              "  <thead>\n",
              "    <tr style=\"text-align: right;\">\n",
              "      <th></th>\n",
              "      <th>capacity_bytes</th>\n",
              "      <th>failure</th>\n",
              "      <th>smart_5_raw</th>\n",
              "      <th>smart_10_raw</th>\n",
              "      <th>smart_12_raw</th>\n",
              "      <th>smart_184_raw</th>\n",
              "      <th>smart_187_raw</th>\n",
              "      <th>smart_188_raw</th>\n",
              "      <th>smart_189_raw</th>\n",
              "      <th>smart_190_raw</th>\n",
              "      <th>smart_196_raw</th>\n",
              "      <th>smart_197_raw</th>\n",
              "      <th>smart_198_raw</th>\n",
              "      <th>smart_199_raw</th>\n",
              "      <th>smart_200_raw</th>\n",
              "      <th>smart_201_raw</th>\n",
              "    </tr>\n",
              "  </thead>\n",
              "  <tbody>\n",
              "    <tr>\n",
              "      <th>count</th>\n",
              "      <td>3.120000e+02</td>\n",
              "      <td>312.000000</td>\n",
              "      <td>312.0</td>\n",
              "      <td>312.0</td>\n",
              "      <td>312.000000</td>\n",
              "      <td>90.0</td>\n",
              "      <td>273.0</td>\n",
              "      <td>273.0</td>\n",
              "      <td>273.000000</td>\n",
              "      <td>273.000000</td>\n",
              "      <td>222.000000</td>\n",
              "      <td>129.0</td>\n",
              "      <td>129.000000</td>\n",
              "      <td>312.000000</td>\n",
              "      <td>222.000000</td>\n",
              "      <td>222.000000</td>\n",
              "    </tr>\n",
              "    <tr>\n",
              "      <th>mean</th>\n",
              "      <td>4.000787e+12</td>\n",
              "      <td>0.003205</td>\n",
              "      <td>0.0</td>\n",
              "      <td>0.0</td>\n",
              "      <td>16.089744</td>\n",
              "      <td>0.0</td>\n",
              "      <td>0.0</td>\n",
              "      <td>0.0</td>\n",
              "      <td>1.186813</td>\n",
              "      <td>8.076923</td>\n",
              "      <td>18.729730</td>\n",
              "      <td>0.0</td>\n",
              "      <td>7.410853</td>\n",
              "      <td>3.923077</td>\n",
              "      <td>5.513514</td>\n",
              "      <td>27014.581081</td>\n",
              "    </tr>\n",
              "    <tr>\n",
              "      <th>std</th>\n",
              "      <td>0.000000e+00</td>\n",
              "      <td>0.056614</td>\n",
              "      <td>0.0</td>\n",
              "      <td>0.0</td>\n",
              "      <td>2.585818</td>\n",
              "      <td>0.0</td>\n",
              "      <td>0.0</td>\n",
              "      <td>0.0</td>\n",
              "      <td>2.394442</td>\n",
              "      <td>11.557622</td>\n",
              "      <td>8.705796</td>\n",
              "      <td>0.0</td>\n",
              "      <td>11.307915</td>\n",
              "      <td>16.368560</td>\n",
              "      <td>19.189394</td>\n",
              "      <td>58669.256203</td>\n",
              "    </tr>\n",
              "    <tr>\n",
              "      <th>min</th>\n",
              "      <td>4.000787e+12</td>\n",
              "      <td>0.000000</td>\n",
              "      <td>0.0</td>\n",
              "      <td>0.0</td>\n",
              "      <td>12.000000</td>\n",
              "      <td>0.0</td>\n",
              "      <td>0.0</td>\n",
              "      <td>0.0</td>\n",
              "      <td>0.000000</td>\n",
              "      <td>0.000000</td>\n",
              "      <td>0.000000</td>\n",
              "      <td>0.0</td>\n",
              "      <td>0.000000</td>\n",
              "      <td>0.000000</td>\n",
              "      <td>0.000000</td>\n",
              "      <td>0.000000</td>\n",
              "    </tr>\n",
              "    <tr>\n",
              "      <th>25%</th>\n",
              "      <td>4.000787e+12</td>\n",
              "      <td>0.000000</td>\n",
              "      <td>0.0</td>\n",
              "      <td>0.0</td>\n",
              "      <td>14.000000</td>\n",
              "      <td>0.0</td>\n",
              "      <td>0.0</td>\n",
              "      <td>0.0</td>\n",
              "      <td>0.000000</td>\n",
              "      <td>0.000000</td>\n",
              "      <td>22.000000</td>\n",
              "      <td>0.0</td>\n",
              "      <td>0.000000</td>\n",
              "      <td>0.000000</td>\n",
              "      <td>0.000000</td>\n",
              "      <td>0.000000</td>\n",
              "    </tr>\n",
              "    <tr>\n",
              "      <th>50%</th>\n",
              "      <td>4.000787e+12</td>\n",
              "      <td>0.000000</td>\n",
              "      <td>0.0</td>\n",
              "      <td>0.0</td>\n",
              "      <td>16.000000</td>\n",
              "      <td>0.0</td>\n",
              "      <td>0.0</td>\n",
              "      <td>0.0</td>\n",
              "      <td>0.000000</td>\n",
              "      <td>0.000000</td>\n",
              "      <td>22.000000</td>\n",
              "      <td>0.0</td>\n",
              "      <td>0.000000</td>\n",
              "      <td>0.000000</td>\n",
              "      <td>0.000000</td>\n",
              "      <td>0.000000</td>\n",
              "    </tr>\n",
              "    <tr>\n",
              "      <th>75%</th>\n",
              "      <td>4.000787e+12</td>\n",
              "      <td>0.000000</td>\n",
              "      <td>0.0</td>\n",
              "      <td>0.0</td>\n",
              "      <td>19.000000</td>\n",
              "      <td>0.0</td>\n",
              "      <td>0.0</td>\n",
              "      <td>0.0</td>\n",
              "      <td>0.000000</td>\n",
              "      <td>24.000000</td>\n",
              "      <td>23.000000</td>\n",
              "      <td>0.0</td>\n",
              "      <td>24.000000</td>\n",
              "      <td>0.000000</td>\n",
              "      <td>0.000000</td>\n",
              "      <td>0.000000</td>\n",
              "    </tr>\n",
              "    <tr>\n",
              "      <th>max</th>\n",
              "      <td>4.000787e+12</td>\n",
              "      <td>1.000000</td>\n",
              "      <td>0.0</td>\n",
              "      <td>0.0</td>\n",
              "      <td>20.000000</td>\n",
              "      <td>0.0</td>\n",
              "      <td>0.0</td>\n",
              "      <td>0.0</td>\n",
              "      <td>6.000000</td>\n",
              "      <td>29.000000</td>\n",
              "      <td>26.000000</td>\n",
              "      <td>0.0</td>\n",
              "      <td>26.000000</td>\n",
              "      <td>72.000000</td>\n",
              "      <td>72.000000</td>\n",
              "      <td>155743.000000</td>\n",
              "    </tr>\n",
              "  </tbody>\n",
              "</table>\n",
              "</div>"
            ],
            "text/plain": [
              "       capacity_bytes     failure  ...  smart_200_raw  smart_201_raw\n",
              "count    3.120000e+02  312.000000  ...     222.000000     222.000000\n",
              "mean     4.000787e+12    0.003205  ...       5.513514   27014.581081\n",
              "std      0.000000e+00    0.056614  ...      19.189394   58669.256203\n",
              "min      4.000787e+12    0.000000  ...       0.000000       0.000000\n",
              "25%      4.000787e+12    0.000000  ...       0.000000       0.000000\n",
              "50%      4.000787e+12    0.000000  ...       0.000000       0.000000\n",
              "75%      4.000787e+12    0.000000  ...       0.000000       0.000000\n",
              "max      4.000787e+12    1.000000  ...      72.000000  155743.000000\n",
              "\n",
              "[8 rows x 16 columns]"
            ]
          },
          "metadata": {
            "tags": []
          },
          "execution_count": 47
        }
      ]
    },
    {
      "cell_type": "code",
      "metadata": {
        "id": "VpR8F5bDIzJq",
        "colab_type": "code",
        "outputId": "9f79b164-82ba-4ac9-a451-9e8b5ee8d202",
        "colab": {
          "base_uri": "https://localhost:8080/",
          "height": 314
        }
      },
      "source": [
        "s2.describe()"
      ],
      "execution_count": 0,
      "outputs": [
        {
          "output_type": "execute_result",
          "data": {
            "text/html": [
              "<div>\n",
              "<style scoped>\n",
              "    .dataframe tbody tr th:only-of-type {\n",
              "        vertical-align: middle;\n",
              "    }\n",
              "\n",
              "    .dataframe tbody tr th {\n",
              "        vertical-align: top;\n",
              "    }\n",
              "\n",
              "    .dataframe thead th {\n",
              "        text-align: right;\n",
              "    }\n",
              "</style>\n",
              "<table border=\"1\" class=\"dataframe\">\n",
              "  <thead>\n",
              "    <tr style=\"text-align: right;\">\n",
              "      <th></th>\n",
              "      <th>capacity_bytes</th>\n",
              "      <th>failure</th>\n",
              "      <th>smart_5_raw</th>\n",
              "      <th>smart_10_raw</th>\n",
              "      <th>smart_12_raw</th>\n",
              "      <th>smart_184_raw</th>\n",
              "      <th>smart_187_raw</th>\n",
              "      <th>smart_188_raw</th>\n",
              "      <th>smart_189_raw</th>\n",
              "      <th>smart_190_raw</th>\n",
              "      <th>smart_196_raw</th>\n",
              "      <th>smart_197_raw</th>\n",
              "      <th>smart_198_raw</th>\n",
              "      <th>smart_199_raw</th>\n",
              "      <th>smart_200_raw</th>\n",
              "      <th>smart_201_raw</th>\n",
              "    </tr>\n",
              "  </thead>\n",
              "  <tbody>\n",
              "    <tr>\n",
              "      <th>count</th>\n",
              "      <td>1.300000e+01</td>\n",
              "      <td>13.000000</td>\n",
              "      <td>13.0</td>\n",
              "      <td>13.0</td>\n",
              "      <td>13.000000</td>\n",
              "      <td>13.0</td>\n",
              "      <td>13.0</td>\n",
              "      <td>13.0</td>\n",
              "      <td>13.0</td>\n",
              "      <td>13.000000</td>\n",
              "      <td>0.0</td>\n",
              "      <td>13.0</td>\n",
              "      <td>13.0</td>\n",
              "      <td>13.0</td>\n",
              "      <td>0.0</td>\n",
              "      <td>0.0</td>\n",
              "    </tr>\n",
              "    <tr>\n",
              "      <th>mean</th>\n",
              "      <td>4.000787e+12</td>\n",
              "      <td>0.076923</td>\n",
              "      <td>0.0</td>\n",
              "      <td>0.0</td>\n",
              "      <td>12.076923</td>\n",
              "      <td>0.0</td>\n",
              "      <td>0.0</td>\n",
              "      <td>0.0</td>\n",
              "      <td>9.0</td>\n",
              "      <td>26.461538</td>\n",
              "      <td>NaN</td>\n",
              "      <td>0.0</td>\n",
              "      <td>0.0</td>\n",
              "      <td>0.0</td>\n",
              "      <td>NaN</td>\n",
              "      <td>NaN</td>\n",
              "    </tr>\n",
              "    <tr>\n",
              "      <th>std</th>\n",
              "      <td>0.000000e+00</td>\n",
              "      <td>0.277350</td>\n",
              "      <td>0.0</td>\n",
              "      <td>0.0</td>\n",
              "      <td>0.277350</td>\n",
              "      <td>0.0</td>\n",
              "      <td>0.0</td>\n",
              "      <td>0.0</td>\n",
              "      <td>0.0</td>\n",
              "      <td>2.696151</td>\n",
              "      <td>NaN</td>\n",
              "      <td>0.0</td>\n",
              "      <td>0.0</td>\n",
              "      <td>0.0</td>\n",
              "      <td>NaN</td>\n",
              "      <td>NaN</td>\n",
              "    </tr>\n",
              "    <tr>\n",
              "      <th>min</th>\n",
              "      <td>4.000787e+12</td>\n",
              "      <td>0.000000</td>\n",
              "      <td>0.0</td>\n",
              "      <td>0.0</td>\n",
              "      <td>12.000000</td>\n",
              "      <td>0.0</td>\n",
              "      <td>0.0</td>\n",
              "      <td>0.0</td>\n",
              "      <td>9.0</td>\n",
              "      <td>19.000000</td>\n",
              "      <td>NaN</td>\n",
              "      <td>0.0</td>\n",
              "      <td>0.0</td>\n",
              "      <td>0.0</td>\n",
              "      <td>NaN</td>\n",
              "      <td>NaN</td>\n",
              "    </tr>\n",
              "    <tr>\n",
              "      <th>25%</th>\n",
              "      <td>4.000787e+12</td>\n",
              "      <td>0.000000</td>\n",
              "      <td>0.0</td>\n",
              "      <td>0.0</td>\n",
              "      <td>12.000000</td>\n",
              "      <td>0.0</td>\n",
              "      <td>0.0</td>\n",
              "      <td>0.0</td>\n",
              "      <td>9.0</td>\n",
              "      <td>26.000000</td>\n",
              "      <td>NaN</td>\n",
              "      <td>0.0</td>\n",
              "      <td>0.0</td>\n",
              "      <td>0.0</td>\n",
              "      <td>NaN</td>\n",
              "      <td>NaN</td>\n",
              "    </tr>\n",
              "    <tr>\n",
              "      <th>50%</th>\n",
              "      <td>4.000787e+12</td>\n",
              "      <td>0.000000</td>\n",
              "      <td>0.0</td>\n",
              "      <td>0.0</td>\n",
              "      <td>12.000000</td>\n",
              "      <td>0.0</td>\n",
              "      <td>0.0</td>\n",
              "      <td>0.0</td>\n",
              "      <td>9.0</td>\n",
              "      <td>26.000000</td>\n",
              "      <td>NaN</td>\n",
              "      <td>0.0</td>\n",
              "      <td>0.0</td>\n",
              "      <td>0.0</td>\n",
              "      <td>NaN</td>\n",
              "      <td>NaN</td>\n",
              "    </tr>\n",
              "    <tr>\n",
              "      <th>75%</th>\n",
              "      <td>4.000787e+12</td>\n",
              "      <td>0.000000</td>\n",
              "      <td>0.0</td>\n",
              "      <td>0.0</td>\n",
              "      <td>12.000000</td>\n",
              "      <td>0.0</td>\n",
              "      <td>0.0</td>\n",
              "      <td>0.0</td>\n",
              "      <td>9.0</td>\n",
              "      <td>29.000000</td>\n",
              "      <td>NaN</td>\n",
              "      <td>0.0</td>\n",
              "      <td>0.0</td>\n",
              "      <td>0.0</td>\n",
              "      <td>NaN</td>\n",
              "      <td>NaN</td>\n",
              "    </tr>\n",
              "    <tr>\n",
              "      <th>max</th>\n",
              "      <td>4.000787e+12</td>\n",
              "      <td>1.000000</td>\n",
              "      <td>0.0</td>\n",
              "      <td>0.0</td>\n",
              "      <td>13.000000</td>\n",
              "      <td>0.0</td>\n",
              "      <td>0.0</td>\n",
              "      <td>0.0</td>\n",
              "      <td>9.0</td>\n",
              "      <td>29.000000</td>\n",
              "      <td>NaN</td>\n",
              "      <td>0.0</td>\n",
              "      <td>0.0</td>\n",
              "      <td>0.0</td>\n",
              "      <td>NaN</td>\n",
              "      <td>NaN</td>\n",
              "    </tr>\n",
              "  </tbody>\n",
              "</table>\n",
              "</div>"
            ],
            "text/plain": [
              "       capacity_bytes    failure  ...  smart_200_raw  smart_201_raw\n",
              "count    1.300000e+01  13.000000  ...            0.0            0.0\n",
              "mean     4.000787e+12   0.076923  ...            NaN            NaN\n",
              "std      0.000000e+00   0.277350  ...            NaN            NaN\n",
              "min      4.000787e+12   0.000000  ...            NaN            NaN\n",
              "25%      4.000787e+12   0.000000  ...            NaN            NaN\n",
              "50%      4.000787e+12   0.000000  ...            NaN            NaN\n",
              "75%      4.000787e+12   0.000000  ...            NaN            NaN\n",
              "max      4.000787e+12   1.000000  ...            NaN            NaN\n",
              "\n",
              "[8 rows x 16 columns]"
            ]
          },
          "metadata": {
            "tags": []
          },
          "execution_count": 48
        }
      ]
    },
    {
      "cell_type": "code",
      "metadata": {
        "id": "yzJLuKF7JBq9",
        "colab_type": "code",
        "outputId": "dde61e08-abe1-478a-cccd-44856c053071",
        "colab": {
          "base_uri": "https://localhost:8080/",
          "height": 314
        }
      },
      "source": [
        "s3.describe()"
      ],
      "execution_count": 0,
      "outputs": [
        {
          "output_type": "execute_result",
          "data": {
            "text/html": [
              "<div>\n",
              "<style scoped>\n",
              "    .dataframe tbody tr th:only-of-type {\n",
              "        vertical-align: middle;\n",
              "    }\n",
              "\n",
              "    .dataframe tbody tr th {\n",
              "        vertical-align: top;\n",
              "    }\n",
              "\n",
              "    .dataframe thead th {\n",
              "        text-align: right;\n",
              "    }\n",
              "</style>\n",
              "<table border=\"1\" class=\"dataframe\">\n",
              "  <thead>\n",
              "    <tr style=\"text-align: right;\">\n",
              "      <th></th>\n",
              "      <th>capacity_bytes</th>\n",
              "      <th>failure</th>\n",
              "      <th>smart_5_raw</th>\n",
              "      <th>smart_10_raw</th>\n",
              "      <th>smart_12_raw</th>\n",
              "      <th>smart_184_raw</th>\n",
              "      <th>smart_187_raw</th>\n",
              "      <th>smart_188_raw</th>\n",
              "      <th>smart_189_raw</th>\n",
              "      <th>smart_190_raw</th>\n",
              "      <th>smart_196_raw</th>\n",
              "      <th>smart_197_raw</th>\n",
              "      <th>smart_198_raw</th>\n",
              "      <th>smart_199_raw</th>\n",
              "      <th>smart_200_raw</th>\n",
              "      <th>smart_201_raw</th>\n",
              "    </tr>\n",
              "  </thead>\n",
              "  <tbody>\n",
              "    <tr>\n",
              "      <th>count</th>\n",
              "      <td>3.620000e+02</td>\n",
              "      <td>362.000000</td>\n",
              "      <td>362.0</td>\n",
              "      <td>362.0</td>\n",
              "      <td>362.000000</td>\n",
              "      <td>90.0</td>\n",
              "      <td>273.0</td>\n",
              "      <td>273.0</td>\n",
              "      <td>273.0</td>\n",
              "      <td>273.000000</td>\n",
              "      <td>272.000000</td>\n",
              "      <td>179.0</td>\n",
              "      <td>179.000000</td>\n",
              "      <td>362.0</td>\n",
              "      <td>272.000000</td>\n",
              "      <td>272.000000</td>\n",
              "    </tr>\n",
              "    <tr>\n",
              "      <th>mean</th>\n",
              "      <td>4.000787e+12</td>\n",
              "      <td>0.002762</td>\n",
              "      <td>0.0</td>\n",
              "      <td>0.0</td>\n",
              "      <td>7.651934</td>\n",
              "      <td>0.0</td>\n",
              "      <td>0.0</td>\n",
              "      <td>0.0</td>\n",
              "      <td>0.0</td>\n",
              "      <td>8.142857</td>\n",
              "      <td>15.764706</td>\n",
              "      <td>0.0</td>\n",
              "      <td>12.016760</td>\n",
              "      <td>0.0</td>\n",
              "      <td>0.213235</td>\n",
              "      <td>12356.154412</td>\n",
              "    </tr>\n",
              "    <tr>\n",
              "      <th>std</th>\n",
              "      <td>0.000000e+00</td>\n",
              "      <td>0.052559</td>\n",
              "      <td>0.0</td>\n",
              "      <td>0.0</td>\n",
              "      <td>1.473819</td>\n",
              "      <td>0.0</td>\n",
              "      <td>0.0</td>\n",
              "      <td>0.0</td>\n",
              "      <td>0.0</td>\n",
              "      <td>11.648565</td>\n",
              "      <td>11.037163</td>\n",
              "      <td>0.0</td>\n",
              "      <td>12.141245</td>\n",
              "      <td>0.0</td>\n",
              "      <td>0.410347</td>\n",
              "      <td>17750.626091</td>\n",
              "    </tr>\n",
              "    <tr>\n",
              "      <th>min</th>\n",
              "      <td>4.000787e+12</td>\n",
              "      <td>0.000000</td>\n",
              "      <td>0.0</td>\n",
              "      <td>0.0</td>\n",
              "      <td>7.000000</td>\n",
              "      <td>0.0</td>\n",
              "      <td>0.0</td>\n",
              "      <td>0.0</td>\n",
              "      <td>0.0</td>\n",
              "      <td>0.000000</td>\n",
              "      <td>0.000000</td>\n",
              "      <td>0.0</td>\n",
              "      <td>0.000000</td>\n",
              "      <td>0.0</td>\n",
              "      <td>0.000000</td>\n",
              "      <td>0.000000</td>\n",
              "    </tr>\n",
              "    <tr>\n",
              "      <th>25%</th>\n",
              "      <td>4.000787e+12</td>\n",
              "      <td>0.000000</td>\n",
              "      <td>0.0</td>\n",
              "      <td>0.0</td>\n",
              "      <td>7.000000</td>\n",
              "      <td>0.0</td>\n",
              "      <td>0.0</td>\n",
              "      <td>0.0</td>\n",
              "      <td>0.0</td>\n",
              "      <td>0.000000</td>\n",
              "      <td>0.000000</td>\n",
              "      <td>0.0</td>\n",
              "      <td>0.000000</td>\n",
              "      <td>0.0</td>\n",
              "      <td>0.000000</td>\n",
              "      <td>0.000000</td>\n",
              "    </tr>\n",
              "    <tr>\n",
              "      <th>50%</th>\n",
              "      <td>4.000787e+12</td>\n",
              "      <td>0.000000</td>\n",
              "      <td>0.0</td>\n",
              "      <td>0.0</td>\n",
              "      <td>7.000000</td>\n",
              "      <td>0.0</td>\n",
              "      <td>0.0</td>\n",
              "      <td>0.0</td>\n",
              "      <td>0.0</td>\n",
              "      <td>0.000000</td>\n",
              "      <td>23.000000</td>\n",
              "      <td>0.0</td>\n",
              "      <td>0.000000</td>\n",
              "      <td>0.0</td>\n",
              "      <td>0.000000</td>\n",
              "      <td>0.000000</td>\n",
              "    </tr>\n",
              "    <tr>\n",
              "      <th>75%</th>\n",
              "      <td>4.000787e+12</td>\n",
              "      <td>0.000000</td>\n",
              "      <td>0.0</td>\n",
              "      <td>0.0</td>\n",
              "      <td>7.000000</td>\n",
              "      <td>0.0</td>\n",
              "      <td>0.0</td>\n",
              "      <td>0.0</td>\n",
              "      <td>0.0</td>\n",
              "      <td>24.000000</td>\n",
              "      <td>23.000000</td>\n",
              "      <td>0.0</td>\n",
              "      <td>24.000000</td>\n",
              "      <td>0.0</td>\n",
              "      <td>0.000000</td>\n",
              "      <td>37760.000000</td>\n",
              "    </tr>\n",
              "    <tr>\n",
              "      <th>max</th>\n",
              "      <td>4.000787e+12</td>\n",
              "      <td>1.000000</td>\n",
              "      <td>0.0</td>\n",
              "      <td>0.0</td>\n",
              "      <td>11.000000</td>\n",
              "      <td>0.0</td>\n",
              "      <td>0.0</td>\n",
              "      <td>0.0</td>\n",
              "      <td>0.0</td>\n",
              "      <td>27.000000</td>\n",
              "      <td>26.000000</td>\n",
              "      <td>0.0</td>\n",
              "      <td>27.000000</td>\n",
              "      <td>0.0</td>\n",
              "      <td>1.000000</td>\n",
              "      <td>37764.000000</td>\n",
              "    </tr>\n",
              "  </tbody>\n",
              "</table>\n",
              "</div>"
            ],
            "text/plain": [
              "       capacity_bytes     failure  ...  smart_200_raw  smart_201_raw\n",
              "count    3.620000e+02  362.000000  ...     272.000000     272.000000\n",
              "mean     4.000787e+12    0.002762  ...       0.213235   12356.154412\n",
              "std      0.000000e+00    0.052559  ...       0.410347   17750.626091\n",
              "min      4.000787e+12    0.000000  ...       0.000000       0.000000\n",
              "25%      4.000787e+12    0.000000  ...       0.000000       0.000000\n",
              "50%      4.000787e+12    0.000000  ...       0.000000       0.000000\n",
              "75%      4.000787e+12    0.000000  ...       0.000000   37760.000000\n",
              "max      4.000787e+12    1.000000  ...       1.000000   37764.000000\n",
              "\n",
              "[8 rows x 16 columns]"
            ]
          },
          "metadata": {
            "tags": []
          },
          "execution_count": 49
        }
      ]
    },
    {
      "cell_type": "code",
      "metadata": {
        "id": "8lHzreL0JJjb",
        "colab_type": "code",
        "outputId": "1d6268fe-85d5-4892-d55c-fcdc2f046610",
        "colab": {
          "base_uri": "https://localhost:8080/",
          "height": 314
        }
      },
      "source": [
        "s4.describe()"
      ],
      "execution_count": 0,
      "outputs": [
        {
          "output_type": "execute_result",
          "data": {
            "text/html": [
              "<div>\n",
              "<style scoped>\n",
              "    .dataframe tbody tr th:only-of-type {\n",
              "        vertical-align: middle;\n",
              "    }\n",
              "\n",
              "    .dataframe tbody tr th {\n",
              "        vertical-align: top;\n",
              "    }\n",
              "\n",
              "    .dataframe thead th {\n",
              "        text-align: right;\n",
              "    }\n",
              "</style>\n",
              "<table border=\"1\" class=\"dataframe\">\n",
              "  <thead>\n",
              "    <tr style=\"text-align: right;\">\n",
              "      <th></th>\n",
              "      <th>capacity_bytes</th>\n",
              "      <th>failure</th>\n",
              "      <th>smart_5_raw</th>\n",
              "      <th>smart_10_raw</th>\n",
              "      <th>smart_12_raw</th>\n",
              "      <th>smart_184_raw</th>\n",
              "      <th>smart_187_raw</th>\n",
              "      <th>smart_188_raw</th>\n",
              "      <th>smart_189_raw</th>\n",
              "      <th>smart_190_raw</th>\n",
              "      <th>smart_196_raw</th>\n",
              "      <th>smart_197_raw</th>\n",
              "      <th>smart_198_raw</th>\n",
              "      <th>smart_199_raw</th>\n",
              "      <th>smart_200_raw</th>\n",
              "      <th>smart_201_raw</th>\n",
              "    </tr>\n",
              "  </thead>\n",
              "  <tbody>\n",
              "    <tr>\n",
              "      <th>count</th>\n",
              "      <td>3.630000e+02</td>\n",
              "      <td>363.000000</td>\n",
              "      <td>363.000000</td>\n",
              "      <td>363.0</td>\n",
              "      <td>363.000000</td>\n",
              "      <td>90.0</td>\n",
              "      <td>273.0</td>\n",
              "      <td>273.000000</td>\n",
              "      <td>273.0</td>\n",
              "      <td>273.000000</td>\n",
              "      <td>273.000000</td>\n",
              "      <td>180.0</td>\n",
              "      <td>180.000000</td>\n",
              "      <td>363.0</td>\n",
              "      <td>273.000000</td>\n",
              "      <td>273.000000</td>\n",
              "    </tr>\n",
              "    <tr>\n",
              "      <th>mean</th>\n",
              "      <td>4.000787e+12</td>\n",
              "      <td>0.002755</td>\n",
              "      <td>7.096419</td>\n",
              "      <td>0.0</td>\n",
              "      <td>12.355372</td>\n",
              "      <td>0.0</td>\n",
              "      <td>0.0</td>\n",
              "      <td>0.329670</td>\n",
              "      <td>0.0</td>\n",
              "      <td>8.648352</td>\n",
              "      <td>18.805861</td>\n",
              "      <td>0.0</td>\n",
              "      <td>13.683333</td>\n",
              "      <td>0.0</td>\n",
              "      <td>0.659341</td>\n",
              "      <td>205517.959707</td>\n",
              "    </tr>\n",
              "    <tr>\n",
              "      <th>std</th>\n",
              "      <td>0.000000e+00</td>\n",
              "      <td>0.052486</td>\n",
              "      <td>127.295276</td>\n",
              "      <td>0.0</td>\n",
              "      <td>0.902968</td>\n",
              "      <td>0.0</td>\n",
              "      <td>0.0</td>\n",
              "      <td>0.470957</td>\n",
              "      <td>0.0</td>\n",
              "      <td>10.951806</td>\n",
              "      <td>12.785089</td>\n",
              "      <td>0.0</td>\n",
              "      <td>13.792750</td>\n",
              "      <td>0.0</td>\n",
              "      <td>0.941913</td>\n",
              "      <td>293811.257534</td>\n",
              "    </tr>\n",
              "    <tr>\n",
              "      <th>min</th>\n",
              "      <td>4.000787e+12</td>\n",
              "      <td>0.000000</td>\n",
              "      <td>0.000000</td>\n",
              "      <td>0.0</td>\n",
              "      <td>11.000000</td>\n",
              "      <td>0.0</td>\n",
              "      <td>0.0</td>\n",
              "      <td>0.000000</td>\n",
              "      <td>0.0</td>\n",
              "      <td>1.000000</td>\n",
              "      <td>1.000000</td>\n",
              "      <td>0.0</td>\n",
              "      <td>0.000000</td>\n",
              "      <td>0.0</td>\n",
              "      <td>0.000000</td>\n",
              "      <td>0.000000</td>\n",
              "    </tr>\n",
              "    <tr>\n",
              "      <th>25%</th>\n",
              "      <td>4.000787e+12</td>\n",
              "      <td>0.000000</td>\n",
              "      <td>0.000000</td>\n",
              "      <td>0.0</td>\n",
              "      <td>12.000000</td>\n",
              "      <td>0.0</td>\n",
              "      <td>0.0</td>\n",
              "      <td>0.000000</td>\n",
              "      <td>0.0</td>\n",
              "      <td>1.000000</td>\n",
              "      <td>1.000000</td>\n",
              "      <td>0.0</td>\n",
              "      <td>0.000000</td>\n",
              "      <td>0.0</td>\n",
              "      <td>0.000000</td>\n",
              "      <td>0.000000</td>\n",
              "    </tr>\n",
              "    <tr>\n",
              "      <th>50%</th>\n",
              "      <td>4.000787e+12</td>\n",
              "      <td>0.000000</td>\n",
              "      <td>0.000000</td>\n",
              "      <td>0.0</td>\n",
              "      <td>13.000000</td>\n",
              "      <td>0.0</td>\n",
              "      <td>0.0</td>\n",
              "      <td>0.000000</td>\n",
              "      <td>0.0</td>\n",
              "      <td>1.000000</td>\n",
              "      <td>24.000000</td>\n",
              "      <td>0.0</td>\n",
              "      <td>11.500000</td>\n",
              "      <td>0.0</td>\n",
              "      <td>0.000000</td>\n",
              "      <td>0.000000</td>\n",
              "    </tr>\n",
              "    <tr>\n",
              "      <th>75%</th>\n",
              "      <td>4.000787e+12</td>\n",
              "      <td>0.000000</td>\n",
              "      <td>0.000000</td>\n",
              "      <td>0.0</td>\n",
              "      <td>13.000000</td>\n",
              "      <td>0.0</td>\n",
              "      <td>0.0</td>\n",
              "      <td>1.000000</td>\n",
              "      <td>0.0</td>\n",
              "      <td>23.000000</td>\n",
              "      <td>30.000000</td>\n",
              "      <td>0.0</td>\n",
              "      <td>28.000000</td>\n",
              "      <td>0.0</td>\n",
              "      <td>2.000000</td>\n",
              "      <td>607456.000000</td>\n",
              "    </tr>\n",
              "    <tr>\n",
              "      <th>max</th>\n",
              "      <td>4.000787e+12</td>\n",
              "      <td>1.000000</td>\n",
              "      <td>2424.000000</td>\n",
              "      <td>0.0</td>\n",
              "      <td>14.000000</td>\n",
              "      <td>0.0</td>\n",
              "      <td>0.0</td>\n",
              "      <td>1.000000</td>\n",
              "      <td>0.0</td>\n",
              "      <td>26.000000</td>\n",
              "      <td>34.000000</td>\n",
              "      <td>0.0</td>\n",
              "      <td>32.000000</td>\n",
              "      <td>0.0</td>\n",
              "      <td>2.000000</td>\n",
              "      <td>647477.000000</td>\n",
              "    </tr>\n",
              "  </tbody>\n",
              "</table>\n",
              "</div>"
            ],
            "text/plain": [
              "       capacity_bytes     failure  ...  smart_200_raw  smart_201_raw\n",
              "count    3.630000e+02  363.000000  ...     273.000000     273.000000\n",
              "mean     4.000787e+12    0.002755  ...       0.659341  205517.959707\n",
              "std      0.000000e+00    0.052486  ...       0.941913  293811.257534\n",
              "min      4.000787e+12    0.000000  ...       0.000000       0.000000\n",
              "25%      4.000787e+12    0.000000  ...       0.000000       0.000000\n",
              "50%      4.000787e+12    0.000000  ...       0.000000       0.000000\n",
              "75%      4.000787e+12    0.000000  ...       2.000000  607456.000000\n",
              "max      4.000787e+12    1.000000  ...       2.000000  647477.000000\n",
              "\n",
              "[8 rows x 16 columns]"
            ]
          },
          "metadata": {
            "tags": []
          },
          "execution_count": 50
        }
      ]
    },
    {
      "cell_type": "code",
      "metadata": {
        "id": "Akag2rvyJV4w",
        "colab_type": "code",
        "outputId": "9941ae5c-6999-41a9-967c-f6d5a0b821ee",
        "colab": {
          "base_uri": "https://localhost:8080/",
          "height": 314
        }
      },
      "source": [
        "s5.describe()"
      ],
      "execution_count": 0,
      "outputs": [
        {
          "output_type": "execute_result",
          "data": {
            "text/html": [
              "<div>\n",
              "<style scoped>\n",
              "    .dataframe tbody tr th:only-of-type {\n",
              "        vertical-align: middle;\n",
              "    }\n",
              "\n",
              "    .dataframe tbody tr th {\n",
              "        vertical-align: top;\n",
              "    }\n",
              "\n",
              "    .dataframe thead th {\n",
              "        text-align: right;\n",
              "    }\n",
              "</style>\n",
              "<table border=\"1\" class=\"dataframe\">\n",
              "  <thead>\n",
              "    <tr style=\"text-align: right;\">\n",
              "      <th></th>\n",
              "      <th>capacity_bytes</th>\n",
              "      <th>failure</th>\n",
              "      <th>smart_5_raw</th>\n",
              "      <th>smart_10_raw</th>\n",
              "      <th>smart_12_raw</th>\n",
              "      <th>smart_184_raw</th>\n",
              "      <th>smart_187_raw</th>\n",
              "      <th>smart_188_raw</th>\n",
              "      <th>smart_189_raw</th>\n",
              "      <th>smart_190_raw</th>\n",
              "      <th>smart_196_raw</th>\n",
              "      <th>smart_197_raw</th>\n",
              "      <th>smart_198_raw</th>\n",
              "      <th>smart_199_raw</th>\n",
              "      <th>smart_200_raw</th>\n",
              "      <th>smart_201_raw</th>\n",
              "    </tr>\n",
              "  </thead>\n",
              "  <tbody>\n",
              "    <tr>\n",
              "      <th>count</th>\n",
              "      <td>2.420000e+02</td>\n",
              "      <td>242.000000</td>\n",
              "      <td>242.000000</td>\n",
              "      <td>242.0</td>\n",
              "      <td>242.0</td>\n",
              "      <td>90.0</td>\n",
              "      <td>242.000000</td>\n",
              "      <td>242.0</td>\n",
              "      <td>242.000000</td>\n",
              "      <td>242.000000</td>\n",
              "      <td>152.000000</td>\n",
              "      <td>90.0</td>\n",
              "      <td>90.0</td>\n",
              "      <td>242.000000</td>\n",
              "      <td>152.000000</td>\n",
              "      <td>152.0</td>\n",
              "    </tr>\n",
              "    <tr>\n",
              "      <th>mean</th>\n",
              "      <td>4.000787e+12</td>\n",
              "      <td>0.004132</td>\n",
              "      <td>0.330579</td>\n",
              "      <td>0.0</td>\n",
              "      <td>6.0</td>\n",
              "      <td>0.0</td>\n",
              "      <td>0.008264</td>\n",
              "      <td>0.0</td>\n",
              "      <td>0.400826</td>\n",
              "      <td>7.962810</td>\n",
              "      <td>19.118421</td>\n",
              "      <td>8.0</td>\n",
              "      <td>8.0</td>\n",
              "      <td>5.917355</td>\n",
              "      <td>9.421053</td>\n",
              "      <td>0.0</td>\n",
              "    </tr>\n",
              "    <tr>\n",
              "      <th>std</th>\n",
              "      <td>0.000000e+00</td>\n",
              "      <td>0.064282</td>\n",
              "      <td>5.142595</td>\n",
              "      <td>0.0</td>\n",
              "      <td>0.0</td>\n",
              "      <td>0.0</td>\n",
              "      <td>0.128565</td>\n",
              "      <td>0.0</td>\n",
              "      <td>4.119642</td>\n",
              "      <td>10.381652</td>\n",
              "      <td>0.619059</td>\n",
              "      <td>0.0</td>\n",
              "      <td>0.0</td>\n",
              "      <td>14.599259</td>\n",
              "      <td>17.519913</td>\n",
              "      <td>0.0</td>\n",
              "    </tr>\n",
              "    <tr>\n",
              "      <th>min</th>\n",
              "      <td>4.000787e+12</td>\n",
              "      <td>0.000000</td>\n",
              "      <td>0.000000</td>\n",
              "      <td>0.0</td>\n",
              "      <td>6.0</td>\n",
              "      <td>0.0</td>\n",
              "      <td>0.000000</td>\n",
              "      <td>0.0</td>\n",
              "      <td>0.000000</td>\n",
              "      <td>0.000000</td>\n",
              "      <td>18.000000</td>\n",
              "      <td>8.0</td>\n",
              "      <td>8.0</td>\n",
              "      <td>0.000000</td>\n",
              "      <td>8.000000</td>\n",
              "      <td>0.0</td>\n",
              "    </tr>\n",
              "    <tr>\n",
              "      <th>25%</th>\n",
              "      <td>4.000787e+12</td>\n",
              "      <td>0.000000</td>\n",
              "      <td>0.000000</td>\n",
              "      <td>0.0</td>\n",
              "      <td>6.0</td>\n",
              "      <td>0.0</td>\n",
              "      <td>0.000000</td>\n",
              "      <td>0.0</td>\n",
              "      <td>0.000000</td>\n",
              "      <td>0.000000</td>\n",
              "      <td>19.000000</td>\n",
              "      <td>8.0</td>\n",
              "      <td>8.0</td>\n",
              "      <td>0.000000</td>\n",
              "      <td>8.000000</td>\n",
              "      <td>0.0</td>\n",
              "    </tr>\n",
              "    <tr>\n",
              "      <th>50%</th>\n",
              "      <td>4.000787e+12</td>\n",
              "      <td>0.000000</td>\n",
              "      <td>0.000000</td>\n",
              "      <td>0.0</td>\n",
              "      <td>6.0</td>\n",
              "      <td>0.0</td>\n",
              "      <td>0.000000</td>\n",
              "      <td>0.0</td>\n",
              "      <td>0.000000</td>\n",
              "      <td>0.000000</td>\n",
              "      <td>19.000000</td>\n",
              "      <td>8.0</td>\n",
              "      <td>8.0</td>\n",
              "      <td>8.000000</td>\n",
              "      <td>8.000000</td>\n",
              "      <td>0.0</td>\n",
              "    </tr>\n",
              "    <tr>\n",
              "      <th>75%</th>\n",
              "      <td>4.000787e+12</td>\n",
              "      <td>0.000000</td>\n",
              "      <td>0.000000</td>\n",
              "      <td>0.0</td>\n",
              "      <td>6.0</td>\n",
              "      <td>0.0</td>\n",
              "      <td>0.000000</td>\n",
              "      <td>0.0</td>\n",
              "      <td>0.000000</td>\n",
              "      <td>21.000000</td>\n",
              "      <td>19.000000</td>\n",
              "      <td>8.0</td>\n",
              "      <td>8.0</td>\n",
              "      <td>8.000000</td>\n",
              "      <td>8.000000</td>\n",
              "      <td>0.0</td>\n",
              "    </tr>\n",
              "    <tr>\n",
              "      <th>max</th>\n",
              "      <td>4.000787e+12</td>\n",
              "      <td>1.000000</td>\n",
              "      <td>80.000000</td>\n",
              "      <td>0.0</td>\n",
              "      <td>6.0</td>\n",
              "      <td>0.0</td>\n",
              "      <td>2.000000</td>\n",
              "      <td>0.0</td>\n",
              "      <td>64.000000</td>\n",
              "      <td>25.000000</td>\n",
              "      <td>25.000000</td>\n",
              "      <td>8.0</td>\n",
              "      <td>8.0</td>\n",
              "      <td>224.000000</td>\n",
              "      <td>224.000000</td>\n",
              "      <td>0.0</td>\n",
              "    </tr>\n",
              "  </tbody>\n",
              "</table>\n",
              "</div>"
            ],
            "text/plain": [
              "       capacity_bytes     failure  ...  smart_200_raw  smart_201_raw\n",
              "count    2.420000e+02  242.000000  ...     152.000000          152.0\n",
              "mean     4.000787e+12    0.004132  ...       9.421053            0.0\n",
              "std      0.000000e+00    0.064282  ...      17.519913            0.0\n",
              "min      4.000787e+12    0.000000  ...       8.000000            0.0\n",
              "25%      4.000787e+12    0.000000  ...       8.000000            0.0\n",
              "50%      4.000787e+12    0.000000  ...       8.000000            0.0\n",
              "75%      4.000787e+12    0.000000  ...       8.000000            0.0\n",
              "max      4.000787e+12    1.000000  ...     224.000000            0.0\n",
              "\n",
              "[8 rows x 16 columns]"
            ]
          },
          "metadata": {
            "tags": []
          },
          "execution_count": 51
        }
      ]
    },
    {
      "cell_type": "markdown",
      "metadata": {
        "id": "M2H5hvmAPbhH",
        "colab_type": "text"
      },
      "source": [
        "From the charts and stats we can now reduce the number of stats that can be used:\n",
        "\n",
        "  Smart 5 - Ignore (Value change after failure)\n",
        "  \n",
        "  Smart 10 - Ignore (Value change after failure)\n",
        "  \n",
        " **Smart 12** - Consider (Small increase close to failure)\n",
        " \n",
        "  Smart 184 - Ignore (Null or Zero)\n",
        "  \n",
        "  Smart 187 - Ignore (Null or Zero)\n",
        "  \n",
        "  Smart 188 - Ignore (Insignificant change)\n",
        "  \n",
        "  Smart 189 - Ignore (0 or changes after failure)\n",
        "  \n",
        "  Smart 190 - Ignore (mostly null)\n",
        "  \n",
        " **Smart 196** - Consider (Can observe trend in chart)\n",
        " \n",
        "  Smart 197 - Ignore (0 or constant)\n",
        "  \n",
        "  **Smart 198** - Consider (Opposite trend of 196 in some cases)\n",
        "  \n",
        "  **Smart 199** -  Consider (Jumps up at failure and 196/198 jumps)\n",
        "  \n",
        "  Smart 200 - Ignore (Constant and bumps after failure)\n",
        "  \n",
        "  **Smart 201** - Consider (Can observe trend from chart)\n",
        "  "
      ]
    },
    {
      "cell_type": "markdown",
      "metadata": {
        "id": "NKk3IEAReh3i",
        "colab_type": "text"
      },
      "source": [
        "# Let's see the trend for the stats where the hard drive dosen't fail.\n"
      ]
    },
    {
      "cell_type": "code",
      "metadata": {
        "id": "Z5azVlYrJX82",
        "colab_type": "code",
        "colab": {}
      },
      "source": [
        "#Getting all rows for serial numbers which eventually fail\n",
        "working = df[~df[\"serial_number\"].isin(failure_list)]"
      ],
      "execution_count": 0,
      "outputs": []
    },
    {
      "cell_type": "code",
      "metadata": {
        "id": "B2o1qsK3h8DA",
        "colab_type": "code",
        "outputId": "47f24857-507f-4d35-94f9-1b6acc00a69c",
        "colab": {
          "base_uri": "https://localhost:8080/",
          "height": 1029
        }
      },
      "source": [
        "working.tail(20)"
      ],
      "execution_count": 0,
      "outputs": [
        {
          "output_type": "execute_result",
          "data": {
            "text/html": [
              "<div>\n",
              "<style scoped>\n",
              "    .dataframe tbody tr th:only-of-type {\n",
              "        vertical-align: middle;\n",
              "    }\n",
              "\n",
              "    .dataframe tbody tr th {\n",
              "        vertical-align: top;\n",
              "    }\n",
              "\n",
              "    .dataframe thead th {\n",
              "        text-align: right;\n",
              "    }\n",
              "</style>\n",
              "<table border=\"1\" class=\"dataframe\">\n",
              "  <thead>\n",
              "    <tr style=\"text-align: right;\">\n",
              "      <th></th>\n",
              "      <th>date</th>\n",
              "      <th>serial_number</th>\n",
              "      <th>model</th>\n",
              "      <th>capacity_bytes</th>\n",
              "      <th>failure</th>\n",
              "      <th>smart_5_raw</th>\n",
              "      <th>smart_10_raw</th>\n",
              "      <th>smart_12_raw</th>\n",
              "      <th>smart_184_raw</th>\n",
              "      <th>smart_187_raw</th>\n",
              "      <th>smart_188_raw</th>\n",
              "      <th>smart_189_raw</th>\n",
              "      <th>smart_190_raw</th>\n",
              "      <th>smart_196_raw</th>\n",
              "      <th>smart_197_raw</th>\n",
              "      <th>smart_198_raw</th>\n",
              "      <th>smart_199_raw</th>\n",
              "      <th>smart_200_raw</th>\n",
              "      <th>smart_201_raw</th>\n",
              "    </tr>\n",
              "  </thead>\n",
              "  <tbody>\n",
              "    <tr>\n",
              "      <th>9992342</th>\n",
              "      <td>2018-12-31</td>\n",
              "      <td>S3010LJ0</td>\n",
              "      <td>ST4000DM000</td>\n",
              "      <td>4000787030016</td>\n",
              "      <td>0</td>\n",
              "      <td>0.0</td>\n",
              "      <td>0.0</td>\n",
              "      <td>4.0</td>\n",
              "      <td>NaN</td>\n",
              "      <td>NaN</td>\n",
              "      <td>NaN</td>\n",
              "      <td>NaN</td>\n",
              "      <td>NaN</td>\n",
              "      <td>0.0</td>\n",
              "      <td>0.0</td>\n",
              "      <td>20.0</td>\n",
              "      <td>0.0</td>\n",
              "      <td>0.0</td>\n",
              "      <td>38228.0</td>\n",
              "    </tr>\n",
              "    <tr>\n",
              "      <th>9992343</th>\n",
              "      <td>2018-12-31</td>\n",
              "      <td>Z302FZFE</td>\n",
              "      <td>ST4000DM000</td>\n",
              "      <td>4000787030016</td>\n",
              "      <td>0</td>\n",
              "      <td>0.0</td>\n",
              "      <td>0.0</td>\n",
              "      <td>7.0</td>\n",
              "      <td>NaN</td>\n",
              "      <td>NaN</td>\n",
              "      <td>NaN</td>\n",
              "      <td>NaN</td>\n",
              "      <td>NaN</td>\n",
              "      <td>0.0</td>\n",
              "      <td>0.0</td>\n",
              "      <td>22.0</td>\n",
              "      <td>0.0</td>\n",
              "      <td>0.0</td>\n",
              "      <td>33021.0</td>\n",
              "    </tr>\n",
              "    <tr>\n",
              "      <th>9992344</th>\n",
              "      <td>2018-12-31</td>\n",
              "      <td>Z3025297</td>\n",
              "      <td>ST4000DM000</td>\n",
              "      <td>4000787030016</td>\n",
              "      <td>0</td>\n",
              "      <td>0.0</td>\n",
              "      <td>0.0</td>\n",
              "      <td>21.0</td>\n",
              "      <td>NaN</td>\n",
              "      <td>NaN</td>\n",
              "      <td>NaN</td>\n",
              "      <td>NaN</td>\n",
              "      <td>NaN</td>\n",
              "      <td>0.0</td>\n",
              "      <td>1.0</td>\n",
              "      <td>23.0</td>\n",
              "      <td>0.0</td>\n",
              "      <td>4.0</td>\n",
              "      <td>244424.0</td>\n",
              "    </tr>\n",
              "    <tr>\n",
              "      <th>9992345</th>\n",
              "      <td>2018-12-31</td>\n",
              "      <td>Z3025296</td>\n",
              "      <td>ST4000DM000</td>\n",
              "      <td>4000787030016</td>\n",
              "      <td>0</td>\n",
              "      <td>0.0</td>\n",
              "      <td>0.0</td>\n",
              "      <td>15.0</td>\n",
              "      <td>NaN</td>\n",
              "      <td>NaN</td>\n",
              "      <td>NaN</td>\n",
              "      <td>NaN</td>\n",
              "      <td>NaN</td>\n",
              "      <td>0.0</td>\n",
              "      <td>5.0</td>\n",
              "      <td>28.0</td>\n",
              "      <td>0.0</td>\n",
              "      <td>1.0</td>\n",
              "      <td>46274.0</td>\n",
              "    </tr>\n",
              "    <tr>\n",
              "      <th>9992346</th>\n",
              "      <td>2018-12-31</td>\n",
              "      <td>S300YQFF</td>\n",
              "      <td>ST4000DM000</td>\n",
              "      <td>4000787030016</td>\n",
              "      <td>0</td>\n",
              "      <td>0.0</td>\n",
              "      <td>0.0</td>\n",
              "      <td>5.0</td>\n",
              "      <td>NaN</td>\n",
              "      <td>NaN</td>\n",
              "      <td>NaN</td>\n",
              "      <td>NaN</td>\n",
              "      <td>NaN</td>\n",
              "      <td>0.0</td>\n",
              "      <td>0.0</td>\n",
              "      <td>20.0</td>\n",
              "      <td>0.0</td>\n",
              "      <td>0.0</td>\n",
              "      <td>41515.0</td>\n",
              "    </tr>\n",
              "    <tr>\n",
              "      <th>9992347</th>\n",
              "      <td>2018-12-31</td>\n",
              "      <td>Z30271NX</td>\n",
              "      <td>ST4000DM000</td>\n",
              "      <td>4000787030016</td>\n",
              "      <td>0</td>\n",
              "      <td>0.0</td>\n",
              "      <td>0.0</td>\n",
              "      <td>13.0</td>\n",
              "      <td>NaN</td>\n",
              "      <td>NaN</td>\n",
              "      <td>NaN</td>\n",
              "      <td>NaN</td>\n",
              "      <td>NaN</td>\n",
              "      <td>0.0</td>\n",
              "      <td>0.0</td>\n",
              "      <td>27.0</td>\n",
              "      <td>0.0</td>\n",
              "      <td>0.0</td>\n",
              "      <td>20359.0</td>\n",
              "    </tr>\n",
              "    <tr>\n",
              "      <th>9992348</th>\n",
              "      <td>2018-12-31</td>\n",
              "      <td>S30115KE</td>\n",
              "      <td>ST4000DM000</td>\n",
              "      <td>4000787030016</td>\n",
              "      <td>0</td>\n",
              "      <td>0.0</td>\n",
              "      <td>0.0</td>\n",
              "      <td>24.0</td>\n",
              "      <td>NaN</td>\n",
              "      <td>NaN</td>\n",
              "      <td>NaN</td>\n",
              "      <td>NaN</td>\n",
              "      <td>NaN</td>\n",
              "      <td>0.0</td>\n",
              "      <td>0.0</td>\n",
              "      <td>20.0</td>\n",
              "      <td>0.0</td>\n",
              "      <td>0.0</td>\n",
              "      <td>43325.0</td>\n",
              "    </tr>\n",
              "    <tr>\n",
              "      <th>9992349</th>\n",
              "      <td>2018-12-31</td>\n",
              "      <td>S30115KF</td>\n",
              "      <td>ST4000DM000</td>\n",
              "      <td>4000787030016</td>\n",
              "      <td>0</td>\n",
              "      <td>0.0</td>\n",
              "      <td>0.0</td>\n",
              "      <td>10.0</td>\n",
              "      <td>NaN</td>\n",
              "      <td>NaN</td>\n",
              "      <td>NaN</td>\n",
              "      <td>NaN</td>\n",
              "      <td>NaN</td>\n",
              "      <td>0.0</td>\n",
              "      <td>0.0</td>\n",
              "      <td>19.0</td>\n",
              "      <td>0.0</td>\n",
              "      <td>0.0</td>\n",
              "      <td>33700.0</td>\n",
              "    </tr>\n",
              "    <tr>\n",
              "      <th>9992350</th>\n",
              "      <td>2018-12-31</td>\n",
              "      <td>Z305JHKK</td>\n",
              "      <td>ST4000DM000</td>\n",
              "      <td>4000787030016</td>\n",
              "      <td>0</td>\n",
              "      <td>0.0</td>\n",
              "      <td>0.0</td>\n",
              "      <td>6.0</td>\n",
              "      <td>NaN</td>\n",
              "      <td>NaN</td>\n",
              "      <td>NaN</td>\n",
              "      <td>NaN</td>\n",
              "      <td>NaN</td>\n",
              "      <td>0.0</td>\n",
              "      <td>0.0</td>\n",
              "      <td>22.0</td>\n",
              "      <td>0.0</td>\n",
              "      <td>0.0</td>\n",
              "      <td>3640.0</td>\n",
              "    </tr>\n",
              "    <tr>\n",
              "      <th>9992351</th>\n",
              "      <td>2018-12-31</td>\n",
              "      <td>Z305BS26</td>\n",
              "      <td>ST4000DM000</td>\n",
              "      <td>4000787030016</td>\n",
              "      <td>0</td>\n",
              "      <td>0.0</td>\n",
              "      <td>0.0</td>\n",
              "      <td>11.0</td>\n",
              "      <td>NaN</td>\n",
              "      <td>NaN</td>\n",
              "      <td>NaN</td>\n",
              "      <td>NaN</td>\n",
              "      <td>NaN</td>\n",
              "      <td>0.0</td>\n",
              "      <td>0.0</td>\n",
              "      <td>16.0</td>\n",
              "      <td>0.0</td>\n",
              "      <td>0.0</td>\n",
              "      <td>157297.0</td>\n",
              "    </tr>\n",
              "    <tr>\n",
              "      <th>9992352</th>\n",
              "      <td>2018-12-31</td>\n",
              "      <td>S30115K2</td>\n",
              "      <td>ST4000DM000</td>\n",
              "      <td>4000787030016</td>\n",
              "      <td>0</td>\n",
              "      <td>0.0</td>\n",
              "      <td>0.0</td>\n",
              "      <td>13.0</td>\n",
              "      <td>NaN</td>\n",
              "      <td>NaN</td>\n",
              "      <td>NaN</td>\n",
              "      <td>NaN</td>\n",
              "      <td>NaN</td>\n",
              "      <td>0.0</td>\n",
              "      <td>0.0</td>\n",
              "      <td>18.0</td>\n",
              "      <td>0.0</td>\n",
              "      <td>0.0</td>\n",
              "      <td>38311.0</td>\n",
              "    </tr>\n",
              "    <tr>\n",
              "      <th>9992353</th>\n",
              "      <td>2018-12-31</td>\n",
              "      <td>Z305D2AB</td>\n",
              "      <td>ST4000DM000</td>\n",
              "      <td>4000787030016</td>\n",
              "      <td>0</td>\n",
              "      <td>0.0</td>\n",
              "      <td>0.0</td>\n",
              "      <td>7.0</td>\n",
              "      <td>NaN</td>\n",
              "      <td>NaN</td>\n",
              "      <td>NaN</td>\n",
              "      <td>NaN</td>\n",
              "      <td>NaN</td>\n",
              "      <td>0.0</td>\n",
              "      <td>0.0</td>\n",
              "      <td>32.0</td>\n",
              "      <td>0.0</td>\n",
              "      <td>0.0</td>\n",
              "      <td>10223.0</td>\n",
              "    </tr>\n",
              "    <tr>\n",
              "      <th>9992354</th>\n",
              "      <td>2018-12-31</td>\n",
              "      <td>S301174F</td>\n",
              "      <td>ST4000DM000</td>\n",
              "      <td>4000787030016</td>\n",
              "      <td>0</td>\n",
              "      <td>0.0</td>\n",
              "      <td>0.0</td>\n",
              "      <td>11.0</td>\n",
              "      <td>NaN</td>\n",
              "      <td>NaN</td>\n",
              "      <td>NaN</td>\n",
              "      <td>NaN</td>\n",
              "      <td>NaN</td>\n",
              "      <td>0.0</td>\n",
              "      <td>0.0</td>\n",
              "      <td>17.0</td>\n",
              "      <td>0.0</td>\n",
              "      <td>0.0</td>\n",
              "      <td>34233.0</td>\n",
              "    </tr>\n",
              "    <tr>\n",
              "      <th>9992355</th>\n",
              "      <td>2018-12-31</td>\n",
              "      <td>Z30271N2</td>\n",
              "      <td>ST4000DM000</td>\n",
              "      <td>4000787030016</td>\n",
              "      <td>0</td>\n",
              "      <td>0.0</td>\n",
              "      <td>0.0</td>\n",
              "      <td>5.0</td>\n",
              "      <td>NaN</td>\n",
              "      <td>NaN</td>\n",
              "      <td>NaN</td>\n",
              "      <td>NaN</td>\n",
              "      <td>NaN</td>\n",
              "      <td>0.0</td>\n",
              "      <td>0.0</td>\n",
              "      <td>28.0</td>\n",
              "      <td>0.0</td>\n",
              "      <td>1.0</td>\n",
              "      <td>21183.0</td>\n",
              "    </tr>\n",
              "    <tr>\n",
              "      <th>9992356</th>\n",
              "      <td>2018-12-31</td>\n",
              "      <td>Z30106KW</td>\n",
              "      <td>ST4000DM000</td>\n",
              "      <td>4000787030016</td>\n",
              "      <td>0</td>\n",
              "      <td>0.0</td>\n",
              "      <td>0.0</td>\n",
              "      <td>14.0</td>\n",
              "      <td>NaN</td>\n",
              "      <td>NaN</td>\n",
              "      <td>NaN</td>\n",
              "      <td>NaN</td>\n",
              "      <td>NaN</td>\n",
              "      <td>0.0</td>\n",
              "      <td>7.0</td>\n",
              "      <td>24.0</td>\n",
              "      <td>0.0</td>\n",
              "      <td>2.0</td>\n",
              "      <td>81073.0</td>\n",
              "    </tr>\n",
              "    <tr>\n",
              "      <th>9992357</th>\n",
              "      <td>2018-12-31</td>\n",
              "      <td>S300XLFH</td>\n",
              "      <td>ST4000DM000</td>\n",
              "      <td>4000787030016</td>\n",
              "      <td>0</td>\n",
              "      <td>0.0</td>\n",
              "      <td>0.0</td>\n",
              "      <td>12.0</td>\n",
              "      <td>NaN</td>\n",
              "      <td>NaN</td>\n",
              "      <td>NaN</td>\n",
              "      <td>NaN</td>\n",
              "      <td>NaN</td>\n",
              "      <td>0.0</td>\n",
              "      <td>0.0</td>\n",
              "      <td>21.0</td>\n",
              "      <td>0.0</td>\n",
              "      <td>0.0</td>\n",
              "      <td>42361.0</td>\n",
              "    </tr>\n",
              "    <tr>\n",
              "      <th>9992358</th>\n",
              "      <td>2018-12-31</td>\n",
              "      <td>Z303KECQ</td>\n",
              "      <td>ST4000DM000</td>\n",
              "      <td>4000787030016</td>\n",
              "      <td>0</td>\n",
              "      <td>0.0</td>\n",
              "      <td>0.0</td>\n",
              "      <td>4.0</td>\n",
              "      <td>NaN</td>\n",
              "      <td>NaN</td>\n",
              "      <td>NaN</td>\n",
              "      <td>NaN</td>\n",
              "      <td>NaN</td>\n",
              "      <td>0.0</td>\n",
              "      <td>0.0</td>\n",
              "      <td>20.0</td>\n",
              "      <td>0.0</td>\n",
              "      <td>0.0</td>\n",
              "      <td>477.0</td>\n",
              "    </tr>\n",
              "    <tr>\n",
              "      <th>9992359</th>\n",
              "      <td>2018-12-31</td>\n",
              "      <td>S300XCF3</td>\n",
              "      <td>ST4000DM000</td>\n",
              "      <td>4000787030016</td>\n",
              "      <td>0</td>\n",
              "      <td>0.0</td>\n",
              "      <td>0.0</td>\n",
              "      <td>4.0</td>\n",
              "      <td>NaN</td>\n",
              "      <td>NaN</td>\n",
              "      <td>NaN</td>\n",
              "      <td>NaN</td>\n",
              "      <td>NaN</td>\n",
              "      <td>0.0</td>\n",
              "      <td>0.0</td>\n",
              "      <td>21.0</td>\n",
              "      <td>0.0</td>\n",
              "      <td>0.0</td>\n",
              "      <td>45741.0</td>\n",
              "    </tr>\n",
              "    <tr>\n",
              "      <th>9992360</th>\n",
              "      <td>2018-12-31</td>\n",
              "      <td>S300XCF0</td>\n",
              "      <td>ST4000DM000</td>\n",
              "      <td>4000787030016</td>\n",
              "      <td>0</td>\n",
              "      <td>0.0</td>\n",
              "      <td>0.0</td>\n",
              "      <td>0.0</td>\n",
              "      <td>NaN</td>\n",
              "      <td>NaN</td>\n",
              "      <td>NaN</td>\n",
              "      <td>NaN</td>\n",
              "      <td>NaN</td>\n",
              "      <td>0.0</td>\n",
              "      <td>0.0</td>\n",
              "      <td>19.0</td>\n",
              "      <td>0.0</td>\n",
              "      <td>0.0</td>\n",
              "      <td>122298.0</td>\n",
              "    </tr>\n",
              "    <tr>\n",
              "      <th>9992361</th>\n",
              "      <td>2018-12-31</td>\n",
              "      <td>Z30271GD</td>\n",
              "      <td>ST4000DM000</td>\n",
              "      <td>4000787030016</td>\n",
              "      <td>0</td>\n",
              "      <td>0.0</td>\n",
              "      <td>0.0</td>\n",
              "      <td>17.0</td>\n",
              "      <td>NaN</td>\n",
              "      <td>NaN</td>\n",
              "      <td>NaN</td>\n",
              "      <td>NaN</td>\n",
              "      <td>NaN</td>\n",
              "      <td>1.0</td>\n",
              "      <td>0.0</td>\n",
              "      <td>23.0</td>\n",
              "      <td>0.0</td>\n",
              "      <td>0.0</td>\n",
              "      <td>117357.0</td>\n",
              "    </tr>\n",
              "  </tbody>\n",
              "</table>\n",
              "</div>"
            ],
            "text/plain": [
              "              date serial_number  ... smart_200_raw  smart_201_raw\n",
              "9992342 2018-12-31      S3010LJ0  ...           0.0        38228.0\n",
              "9992343 2018-12-31      Z302FZFE  ...           0.0        33021.0\n",
              "9992344 2018-12-31      Z3025297  ...           4.0       244424.0\n",
              "9992345 2018-12-31      Z3025296  ...           1.0        46274.0\n",
              "9992346 2018-12-31      S300YQFF  ...           0.0        41515.0\n",
              "9992347 2018-12-31      Z30271NX  ...           0.0        20359.0\n",
              "9992348 2018-12-31      S30115KE  ...           0.0        43325.0\n",
              "9992349 2018-12-31      S30115KF  ...           0.0        33700.0\n",
              "9992350 2018-12-31      Z305JHKK  ...           0.0         3640.0\n",
              "9992351 2018-12-31      Z305BS26  ...           0.0       157297.0\n",
              "9992352 2018-12-31      S30115K2  ...           0.0        38311.0\n",
              "9992353 2018-12-31      Z305D2AB  ...           0.0        10223.0\n",
              "9992354 2018-12-31      S301174F  ...           0.0        34233.0\n",
              "9992355 2018-12-31      Z30271N2  ...           1.0        21183.0\n",
              "9992356 2018-12-31      Z30106KW  ...           2.0        81073.0\n",
              "9992357 2018-12-31      S300XLFH  ...           0.0        42361.0\n",
              "9992358 2018-12-31      Z303KECQ  ...           0.0          477.0\n",
              "9992359 2018-12-31      S300XCF3  ...           0.0        45741.0\n",
              "9992360 2018-12-31      S300XCF0  ...           0.0       122298.0\n",
              "9992361 2018-12-31      Z30271GD  ...           0.0       117357.0\n",
              "\n",
              "[20 rows x 19 columns]"
            ]
          },
          "metadata": {
            "tags": []
          },
          "execution_count": 83
        }
      ]
    },
    {
      "cell_type": "markdown",
      "metadata": {
        "id": "utRnqtnniw15",
        "colab_type": "text"
      },
      "source": [
        "**Serial Number - Z300WG7Z**"
      ]
    },
    {
      "cell_type": "code",
      "metadata": {
        "id": "KUeiqtUViB9b",
        "colab_type": "code",
        "colab": {}
      },
      "source": [
        "\n",
        "su1 = working[working[\"serial_number\"]==\"Z300WG7Z\"]"
      ],
      "execution_count": 0,
      "outputs": []
    },
    {
      "cell_type": "code",
      "metadata": {
        "id": "6zLb1Rn8jsII",
        "colab_type": "code",
        "outputId": "86c079bb-0cd8-4d45-8603-17494a4b68f8",
        "colab": {
          "base_uri": "https://localhost:8080/",
          "height": 349
        }
      },
      "source": [
        "sns.lineplot(data=su1, x=\"date\", y=\"smart_12_raw\", label=\"smart_12\")\n",
        "sns.lineplot(data=su1, x=\"date\", y=\"smart_196_raw\", label=\"smart_196\")\n",
        "sns.lineplot(data=su1, x=\"date\", y=\"smart_198_raw\", label=\"smart_198\")\n",
        "plt.xlabel(\"Date\")\n",
        "plt.ylabel(\"Raw SMART value\")\n",
        "plt.xticks(rotation='vertical')\n",
        "plt.figure(figsize=(22,6))\n"
      ],
      "execution_count": 0,
      "outputs": [
        {
          "output_type": "execute_result",
          "data": {
            "text/plain": [
              "<Figure size 1584x432 with 0 Axes>"
            ]
          },
          "metadata": {
            "tags": []
          },
          "execution_count": 64
        },
        {
          "output_type": "display_data",
          "data": {
            "image/png": "[encoded data removed]",
            "text/plain": [
              "<Figure size 432x288 with 1 Axes>"
            ]
          },
          "metadata": {
            "tags": []
          }
        },
        {
          "output_type": "display_data",
          "data": {
            "text/plain": [
              "<Figure size 1584x432 with 0 Axes>"
            ]
          },
          "metadata": {
            "tags": []
          }
        }
      ]
    },
    {
      "cell_type": "code",
      "metadata": {
        "id": "CUu0qZ_qk4rk",
        "colab_type": "code",
        "outputId": "743f5bec-0e38-490d-ab0c-958a206d0c3d",
        "colab": {
          "base_uri": "https://localhost:8080/",
          "height": 366
        }
      },
      "source": [
        "sns.lineplot(data=su1, x=\"date\", y=\"smart_201_raw\")\n",
        "plt.ylabel(\"Raw SMART 201 value\")\n",
        "plt.xticks(rotation='vertical')\n",
        "plt.figure(figsize=(22,6))"
      ],
      "execution_count": 0,
      "outputs": [
        {
          "output_type": "execute_result",
          "data": {
            "text/plain": [
              "<Figure size 1584x432 with 0 Axes>"
            ]
          },
          "metadata": {
            "tags": []
          },
          "execution_count": 65
        },
        {
          "output_type": "display_data",
          "data": {
            "image/png": "[encoded data removed]",
            "text/plain": [
              "<Figure size 432x288 with 1 Axes>"
            ]
          },
          "metadata": {
            "tags": []
          }
        },
        {
          "output_type": "display_data",
          "data": {
            "text/plain": [
              "<Figure size 1584x432 with 0 Axes>"
            ]
          },
          "metadata": {
            "tags": []
          }
        }
      ]
    },
    {
      "cell_type": "markdown",
      "metadata": {
        "id": "RnaxC3jSpjXz",
        "colab_type": "text"
      },
      "source": [
        "**Serial Number - S30115KE**"
      ]
    },
    {
      "cell_type": "code",
      "metadata": {
        "id": "8FVwPRJ3piWE",
        "colab_type": "code",
        "colab": {}
      },
      "source": [
        "su2 = working[working[\"serial_number\"]==\"S30115KE\"]"
      ],
      "execution_count": 0,
      "outputs": []
    },
    {
      "cell_type": "code",
      "metadata": {
        "id": "aJFMTBjCp12r",
        "colab_type": "code",
        "outputId": "3d9715a8-0280-41b8-d534-b882c3d66920",
        "colab": {
          "base_uri": "https://localhost:8080/",
          "height": 349
        }
      },
      "source": [
        "sns.lineplot(data=su2, x=\"date\", y=\"smart_12_raw\", label=\"smart_12\")\n",
        "sns.lineplot(data=su2, x=\"date\", y=\"smart_196_raw\", label=\"smart_196\")\n",
        "sns.lineplot(data=su2, x=\"date\", y=\"smart_198_raw\", label=\"smart_198\")\n",
        "plt.xlabel(\"Date\")\n",
        "plt.ylabel(\"Raw SMART value\")\n",
        "plt.xticks(rotation='vertical')\n",
        "plt.figure(figsize=(22,6))"
      ],
      "execution_count": 0,
      "outputs": [
        {
          "output_type": "execute_result",
          "data": {
            "text/plain": [
              "<Figure size 1584x432 with 0 Axes>"
            ]
          },
          "metadata": {
            "tags": []
          },
          "execution_count": 96
        },
        {
          "output_type": "display_data",
          "data": {
            "image/png": "[encoded data removed]",
            "text/plain": [
              "<Figure size 432x288 with 1 Axes>"
            ]
          },
          "metadata": {
            "tags": []
          }
        },
        {
          "output_type": "display_data",
          "data": {
            "text/plain": [
              "<Figure size 1584x432 with 0 Axes>"
            ]
          },
          "metadata": {
            "tags": []
          }
        }
      ]
    },
    {
      "cell_type": "code",
      "metadata": {
        "id": "4k6g39rEqApf",
        "colab_type": "code",
        "outputId": "ad17a3f9-614a-4c06-b5ea-c012b8553d8c",
        "colab": {
          "base_uri": "https://localhost:8080/",
          "height": 349
        }
      },
      "source": [
        "sns.lineplot(data=su2, x=\"date\", y=\"smart_201_raw\")\n",
        "plt.ylabel(\"Raw SMART 201 value\")\n",
        "plt.xticks(rotation='vertical')\n",
        "plt.figure(figsize=(22,6))"
      ],
      "execution_count": 0,
      "outputs": [
        {
          "output_type": "execute_result",
          "data": {
            "text/plain": [
              "<Figure size 1584x432 with 0 Axes>"
            ]
          },
          "metadata": {
            "tags": []
          },
          "execution_count": 97
        },
        {
          "output_type": "display_data",
          "data": {
            "image/png": "[encoded data removed]",
            "text/plain": [
              "<Figure size 432x288 with 1 Axes>"
            ]
          },
          "metadata": {
            "tags": []
          }
        },
        {
          "output_type": "display_data",
          "data": {
            "text/plain": [
              "<Figure size 1584x432 with 0 Axes>"
            ]
          },
          "metadata": {
            "tags": []
          }
        }
      ]
    },
    {
      "cell_type": "markdown",
      "metadata": {
        "id": "tMroB_x4s1Kr",
        "colab_type": "text"
      },
      "source": [
        "The stats are most useful once Smart 196, Smart 198 appear. So we can ignore the null values."
      ]
    },
    {
      "cell_type": "code",
      "metadata": {
        "id": "kHexo_oJtcjM",
        "colab_type": "code",
        "colab": {}
      },
      "source": [
        ""
      ],
      "execution_count": 0,
      "outputs": []
    }
  ]
}