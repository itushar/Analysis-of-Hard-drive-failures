{
  "nbformat": 4,
  "nbformat_minor": 0,
  "metadata": {
    "colab": {
      "name": "Cross-Validation.ipynb",
      "version": "0.3.2",
      "provenance": [],
      "collapsed_sections": []
    },
    "kernelspec": {
      "name": "python3",
      "display_name": "Python 3"
    }
  },
  "cells": [
    {
      "cell_type": "code",
      "metadata": {
        "id": "Ovjx_HAK5dGq",
        "colab_type": "code",
        "outputId": "61be63f7-7eef-40ba-c85b-f18172ed8322",
        "colab": {
          "base_uri": "https://localhost:8080/",
          "height": 124
        }
      },
      "source": [
        "from google.colab import drive\n",
        "drive.mount('/content/drive')"
      ],
      "execution_count": 1,
      "outputs": [
        {
          "output_type": "stream",
          "text": [
            "Go to this URL in a browser: https://accounts.google.com/o/oauth2/auth?client_id=947318989803-6bn6qk8qdgf4n4g3pfee6491hc0brc4i.apps.googleusercontent.com&redirect_uri=urn%3Aietf%3Awg%3Aoauth%3A2.0%3Aoob&scope=email%20https%3A%2F%2Fwww.googleapis.com%2Fauth%2Fdocs.test%20https%3A%2F%2Fwww.googleapis.com%2Fauth%2Fdrive%20https%3A%2F%2Fwww.googleapis.com%2Fauth%2Fdrive.photos.readonly%20https%3A%2F%2Fwww.googleapis.com%2Fauth%2Fpeopleapi.readonly&response_type=code\n",
            "\n",
            "Enter your authorization code:\n",
            "··········\n",
            "Mounted at /content/drive\n"
          ],
          "name": "stdout"
        }
      ]
    },
    {
      "cell_type": "code",
      "metadata": {
        "id": "-Od3Uwef6BUy",
        "colab_type": "code",
        "colab": {}
      },
      "source": [
        "import pandas as pd\n",
        "\n",
        "df = pd.read_csv(\"/content/drive/My Drive/Latestv2.csv\")"
      ],
      "execution_count": 0,
      "outputs": []
    },
    {
      "cell_type": "code",
      "metadata": {
        "id": "5WGuvb6M6DaP",
        "colab_type": "code",
        "colab": {}
      },
      "source": [
        "X = df.drop([\"new_failure\", \"date\", \"serial_number\",\"model\"], axis=1)\n",
        "y = df[\"new_failure\"]"
      ],
      "execution_count": 0,
      "outputs": []
    },
    {
      "cell_type": "code",
      "metadata": {
        "id": "sC1zWvbO7W8x",
        "colab_type": "code",
        "colab": {}
      },
      "source": [
        "seed = 7"
      ],
      "execution_count": 0,
      "outputs": []
    },
    {
      "cell_type": "code",
      "metadata": {
        "id": "xU1Qw3cJ9CNA",
        "colab_type": "code",
        "colab": {}
      },
      "source": [
        "# prepare models\n",
        "from sklearn import model_selection\n",
        "from sklearn.linear_model import LogisticRegression\n",
        "from sklearn.tree import DecisionTreeClassifier\n",
        "from sklearn.neighbors import KNeighborsClassifier\n",
        "from sklearn.naive_bayes import GaussianNB\n",
        "from sklearn.ensemble import AdaBoostClassifier\n",
        "from sklearn.ensemble import GradientBoostingClassifier\n",
        "import xgboost as xgb\n",
        "from xgboost import XGBClassifier\n",
        "\n",
        "\n",
        "models = []\n",
        "models.append(('LR', LogisticRegression(solver='lbfgs')))\n",
        "models.append(('KNN', KNeighborsClassifier()))\n",
        "models.append(('DT', DecisionTreeClassifier()))\n",
        "models.append(('NB', GaussianNB()))\n",
        "models.append(('AdaBoost', AdaBoostClassifier()))\n",
        "models.append(('GradientBoost', GradientBoostingClassifier()))\n",
        "models.append(('XGB', xgb.XGBClassifier()))\n",
        "\n"
      ],
      "execution_count": 0,
      "outputs": []
    },
    {
      "cell_type": "code",
      "metadata": {
        "id": "CTL75pqJ9ETw",
        "colab_type": "code",
        "colab": {}
      },
      "source": [
        "results = []\n",
        "names = []\n",
        "scoring = 'roc_auc'"
      ],
      "execution_count": 0,
      "outputs": []
    },
    {
      "cell_type": "code",
      "metadata": {
        "id": "1tB_nMjDFHnI",
        "colab_type": "code",
        "colab": {}
      },
      "source": [
        ""
      ],
      "execution_count": 0,
      "outputs": []
    },
    {
      "cell_type": "code",
      "metadata": {
        "id": "Fo8P_OSI9Xrt",
        "colab_type": "code",
        "outputId": "ef8656af-0586-46ed-e53b-d1003cb99001",
        "colab": {
          "base_uri": "https://localhost:8080/",
          "height": 139
        }
      },
      "source": [
        "from sklearn.model_selection import StratifiedKFold\n",
        "for name, model in models:\n",
        "\tkfold = model_selection.StratifiedKFold(n_splits=10, random_state=seed)\n",
        "\tcv_results = model_selection.cross_val_score(model, X, y, cv=kfold, scoring=scoring)\n",
        "\tresults.append(cv_results)\n",
        "\tnames.append(name)\n",
        "\tmsg = \"%s: %f (%f)\" % (name, cv_results.mean(), cv_results.std())\n",
        "\tprint(msg)"
      ],
      "execution_count": 0,
      "outputs": [
        {
          "output_type": "stream",
          "text": [
            "LR: 0.454086 (0.041420)\n",
            "KNN: 0.926011 (0.014645)\n",
            "DT: 0.925607 (0.019397)\n",
            "NB: 0.609976 (0.023149)\n",
            "AdaBoost: 0.777740 (0.042170)\n",
            "GradientBoost: 0.867159 (0.036002)\n",
            "XGB: 0.819648 (0.030103)\n"
          ],
          "name": "stdout"
        }
      ]
    },
    {
      "cell_type": "code",
      "metadata": {
        "id": "kVscmoyeUKdb",
        "colab_type": "code",
        "colab": {}
      },
      "source": [
        "from sklearn import model_selection\n",
        "from sklearn.linear_model import LogisticRegression\n",
        "from sklearn.tree import DecisionTreeClassifier\n",
        "from sklearn.neighbors import KNeighborsClassifier\n",
        "from sklearn.naive_bayes import GaussianNB\n",
        "from sklearn.ensemble import AdaBoostClassifier\n",
        "from sklearn.ensemble import GradientBoostingClassifier\n",
        "import xgboost as xgb\n",
        "from xgboost import XGBClassifier\n",
        "from sklearn.model_selection import StratifiedKFold\n",
        "\n",
        "results = []\n",
        "names = []\n",
        "scoring = 'roc_auc'"
      ],
      "execution_count": 0,
      "outputs": []
    },
    {
      "cell_type": "code",
      "metadata": {
        "id": "Woqg3xWmQuEr",
        "colab_type": "code",
        "outputId": "53b28a36-667b-44de-cd38-e70bd8ba59af",
        "colab": {
          "base_uri": "https://localhost:8080/",
          "height": 35
        }
      },
      "source": [
        "name = \"LR\"\n",
        "model = LogisticRegression(solver='lbfgs')\n",
        "kfold = model_selection.StratifiedKFold(n_splits=10, random_state=seed)\n",
        "cv_results = model_selection.cross_val_score(model, X, y, cv=kfold, scoring=scoring)\n",
        "results.append(cv_results)\n",
        "names.append(name)\n",
        "msg = \"%s: %f (%f)\" % (name, cv_results.mean(), cv_results.std())\n",
        "print(msg)"
      ],
      "execution_count": 7,
      "outputs": [
        {
          "output_type": "stream",
          "text": [
            "LR: 0.454086 (0.041420)\n"
          ],
          "name": "stdout"
        }
      ]
    },
    {
      "cell_type": "code",
      "metadata": {
        "id": "EpCp-3PZRcVC",
        "colab_type": "code",
        "outputId": "178487e6-c769-416d-fbec-9d3d3a3740d4",
        "colab": {
          "base_uri": "https://localhost:8080/",
          "height": 35
        }
      },
      "source": [
        "name = \"KNN\"\n",
        "model = KNeighborsClassifier()\n",
        "kfold = model_selection.StratifiedKFold(n_splits=10, random_state=seed)\n",
        "cv_results = model_selection.cross_val_score(model, X, y, cv=kfold, scoring=scoring)\n",
        "results.append(cv_results)\n",
        "names.append(name)\n",
        "msg = \"%s: %f (%f)\" % (name, cv_results.mean(), cv_results.std())\n",
        "print(msg)"
      ],
      "execution_count": 8,
      "outputs": [
        {
          "output_type": "stream",
          "text": [
            "KNN: 0.926011 (0.014645)\n"
          ],
          "name": "stdout"
        }
      ]
    },
    {
      "cell_type": "code",
      "metadata": {
        "id": "LGltn9qCRcZI",
        "colab_type": "code",
        "outputId": "a7aadebf-7c70-4571-cad3-1d29e195941d",
        "colab": {
          "base_uri": "https://localhost:8080/",
          "height": 35
        }
      },
      "source": [
        "name = \"DT\"\n",
        "model = DecisionTreeClassifier()\n",
        "kfold = model_selection.StratifiedKFold(n_splits=10, random_state=seed)\n",
        "cv_results = model_selection.cross_val_score(model, X, y, cv=kfold, scoring=scoring)\n",
        "results.append(cv_results)\n",
        "names.append(name)\n",
        "msg = \"%s: %f (%f)\" % (name, cv_results.mean(), cv_results.std())\n",
        "print(msg)"
      ],
      "execution_count": 9,
      "outputs": [
        {
          "output_type": "stream",
          "text": [
            "DT: 0.925712 (0.019449)\n"
          ],
          "name": "stdout"
        }
      ]
    },
    {
      "cell_type": "code",
      "metadata": {
        "id": "e17d670xRf9i",
        "colab_type": "code",
        "outputId": "6be5f8f2-bee2-4821-db8c-4bd9312e1dca",
        "colab": {
          "base_uri": "https://localhost:8080/",
          "height": 35
        }
      },
      "source": [
        "name = \"NB\"\n",
        "model = GaussianNB()\n",
        "kfold = model_selection.StratifiedKFold(n_splits=10, random_state=seed)\n",
        "cv_results = model_selection.cross_val_score(model, X, y, cv=kfold, scoring=scoring)\n",
        "results.append(cv_results)\n",
        "names.append(name)\n",
        "msg = \"%s: %f (%f)\" % (name, cv_results.mean(), cv_results.std())\n",
        "print(msg)"
      ],
      "execution_count": 10,
      "outputs": [
        {
          "output_type": "stream",
          "text": [
            "NB: 0.609976 (0.023149)\n"
          ],
          "name": "stdout"
        }
      ]
    },
    {
      "cell_type": "code",
      "metadata": {
        "id": "NAwZu0sqRgB_",
        "colab_type": "code",
        "outputId": "f81824f2-4e00-42ff-9e3b-3af68494ac78",
        "colab": {
          "base_uri": "https://localhost:8080/",
          "height": 35
        }
      },
      "source": [
        "name = \"AdaBoost\"\n",
        "model = AdaBoostClassifier()\n",
        "kfold = model_selection.StratifiedKFold(n_splits=10, random_state=seed)\n",
        "cv_results = model_selection.cross_val_score(model, X, y, cv=kfold, scoring=scoring)\n",
        "results.append(cv_results)\n",
        "names.append(name)\n",
        "msg = \"%s: %f (%f)\" % (name, cv_results.mean(), cv_results.std())\n",
        "print(msg)"
      ],
      "execution_count": 11,
      "outputs": [
        {
          "output_type": "stream",
          "text": [
            "AdaBoost: 0.777740 (0.042170)\n"
          ],
          "name": "stdout"
        }
      ]
    },
    {
      "cell_type": "code",
      "metadata": {
        "id": "ECQryvj1RkET",
        "colab_type": "code",
        "outputId": "5d9ae016-27f8-4971-e781-d1171921bea1",
        "colab": {
          "base_uri": "https://localhost:8080/",
          "height": 35
        }
      },
      "source": [
        "name = \"GradientBoost\"\n",
        "model = GradientBoostingClassifier()\n",
        "kfold = model_selection.StratifiedKFold(n_splits=10, random_state=7)\n",
        "cv_results = model_selection.cross_val_score(model, X, y, cv=kfold, scoring=scoring)\n",
        "results.append(cv_results)\n",
        "names.append(name)\n",
        "msg = \"%s: %f (%f)\" % (name, cv_results.mean(), cv_results.std())\t\n",
        "print(msg)"
      ],
      "execution_count": 12,
      "outputs": [
        {
          "output_type": "stream",
          "text": [
            "GradientBoost: 0.867159 (0.036002)\n"
          ],
          "name": "stdout"
        }
      ]
    },
    {
      "cell_type": "code",
      "metadata": {
        "id": "Sb4do2-dSkwt",
        "colab_type": "code",
        "outputId": "689d41f2-81bc-4b89-d530-ce07feedc4ae",
        "colab": {
          "base_uri": "https://localhost:8080/",
          "height": 35
        }
      },
      "source": [
        "name = \"XGB\"\n",
        "model = xgb.XGBClassifier()\n",
        "kfold = model_selection.StratifiedKFold(n_splits=10, random_state=7)\n",
        "cv_results = model_selection.cross_val_score(model, X, y, cv=kfold, scoring=scoring)\n",
        "results.append(cv_results)\n",
        "names.append(name)\n",
        "msg = \"%s: %f (%f)\" % (name, cv_results.mean(), cv_results.std())\n",
        "print(msg)"
      ],
      "execution_count": 13,
      "outputs": [
        {
          "output_type": "stream",
          "text": [
            "XGB: 0.819648 (0.030103)\n"
          ],
          "name": "stdout"
        }
      ]
    },
    {
      "cell_type": "code",
      "metadata": {
        "id": "64veStk1RchY",
        "colab_type": "code",
        "colab": {}
      },
      "source": [
        ""
      ],
      "execution_count": 0,
      "outputs": []
    },
    {
      "cell_type": "code",
      "metadata": {
        "id": "DIX2oO5a_SR8",
        "colab_type": "code",
        "outputId": "20537f7f-57de-4323-987b-fade6b3a50cb",
        "colab": {
          "base_uri": "https://localhost:8080/",
          "height": 371
        }
      },
      "source": [
        "# boxplot algorithm comparison\n",
        "import matplotlib.pyplot as plt\n",
        "\n",
        "fig = plt.figure()\n",
        "fig.suptitle('Algorithm Comparison')\n",
        "ax = fig.add_subplot(111)\n",
        "plt.boxplot(results)\n",
        "ax.set_xticklabels(names)\n",
        "plt.xticks(rotation='vertical')\n",
        "plt.xlabel(\"Model\")\n",
        "plt.ylabel(\"AUC\")\n",
        "plt.show()"
      ],
      "execution_count": 14,
      "outputs": [
        {
          "output_type": "display_data",
          "data": {
            "image/png": "[encoded data removed]",
            "text/plain": [
              "<Figure size 432x288 with 1 Axes>"
            ]
          },
          "metadata": {
            "tags": []
          }
        }
      ]
    },
    {
      "cell_type": "code",
      "metadata": {
        "id": "grllLyvt9kGx",
        "colab_type": "code",
        "colab": {}
      },
      "source": [
        "import sklearn.metrics\n",
        "sorted(sklearn.metrics.SCORERS.keys())"
      ],
      "execution_count": 0,
      "outputs": []
    },
    {
      "cell_type": "code",
      "metadata": {
        "id": "r8F1beyi90a-",
        "colab_type": "code",
        "colab": {}
      },
      "source": [
        ""
      ],
      "execution_count": 0,
      "outputs": []
    }
  ]
}