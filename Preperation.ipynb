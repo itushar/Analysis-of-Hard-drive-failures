{
  "nbformat": 4,
  "nbformat_minor": 0,
  "metadata": {
    "colab": {
      "name": "Preperation.ipynb",
      "version": "0.3.2",
      "provenance": [],
      "collapsed_sections": []
    },
    "kernelspec": {
      "name": "python3",
      "display_name": "Python 3"
    }
  },
  "cells": [
    {
      "cell_type": "code",
      "metadata": {
        "id": "8-Xo2Ls2w5Tt",
        "colab_type": "code",
        "colab": {}
      },
      "source": [
        "from google.colab import drive\n",
        "drive.mount('/content/drive')"
      ],
      "execution_count": 0,
      "outputs": []
    },
    {
      "cell_type": "code",
      "metadata": {
        "id": "bQtAgI3DztSh",
        "colab_type": "code",
        "colab": {}
      },
      "source": [
        "import pandas as pd\n",
        "\n",
        "df = pd.read_csv(\"/content/drive/My Drive/SeagateModel.csv\")"
      ],
      "execution_count": 0,
      "outputs": []
    },
    {
      "cell_type": "code",
      "metadata": {
        "id": "WFL15Bvc3cSV",
        "colab_type": "code",
        "outputId": "4f9fc872-cdb8-429c-9675-003a5bd64ebc",
        "colab": {
          "base_uri": "https://localhost:8080/",
          "height": 309
        }
      },
      "source": [
        "df.head()"
      ],
      "execution_count": 0,
      "outputs": [
        {
          "output_type": "execute_result",
          "data": {
            "text/html": [
              "<div>\n",
              "<style scoped>\n",
              "    .dataframe tbody tr th:only-of-type {\n",
              "        vertical-align: middle;\n",
              "    }\n",
              "\n",
              "    .dataframe tbody tr th {\n",
              "        vertical-align: top;\n",
              "    }\n",
              "\n",
              "    .dataframe thead th {\n",
              "        text-align: right;\n",
              "    }\n",
              "</style>\n",
              "<table border=\"1\" class=\"dataframe\">\n",
              "  <thead>\n",
              "    <tr style=\"text-align: right;\">\n",
              "      <th></th>\n",
              "      <th>date</th>\n",
              "      <th>serial_number</th>\n",
              "      <th>model</th>\n",
              "      <th>capacity_bytes</th>\n",
              "      <th>failure</th>\n",
              "      <th>smart_5_raw</th>\n",
              "      <th>smart_10_raw</th>\n",
              "      <th>smart_12_raw</th>\n",
              "      <th>smart_184_raw</th>\n",
              "      <th>smart_187_raw</th>\n",
              "      <th>smart_188_raw</th>\n",
              "      <th>smart_189_raw</th>\n",
              "      <th>smart_190_raw</th>\n",
              "      <th>smart_196_raw</th>\n",
              "      <th>smart_197_raw</th>\n",
              "      <th>smart_198_raw</th>\n",
              "      <th>smart_199_raw</th>\n",
              "      <th>smart_200_raw</th>\n",
              "      <th>smart_201_raw</th>\n",
              "    </tr>\n",
              "  </thead>\n",
              "  <tbody>\n",
              "    <tr>\n",
              "      <th>0</th>\n",
              "      <td>2018-01-01</td>\n",
              "      <td>Z305B2QN</td>\n",
              "      <td>ST4000DM000</td>\n",
              "      <td>4000787030016</td>\n",
              "      <td>0</td>\n",
              "      <td>0.0</td>\n",
              "      <td>0.0</td>\n",
              "      <td>10.0</td>\n",
              "      <td>0.0</td>\n",
              "      <td>0.0</td>\n",
              "      <td>0.0</td>\n",
              "      <td>0.0</td>\n",
              "      <td>23.0</td>\n",
              "      <td>NaN</td>\n",
              "      <td>0.0</td>\n",
              "      <td>0.0</td>\n",
              "      <td>0.0</td>\n",
              "      <td>NaN</td>\n",
              "      <td>NaN</td>\n",
              "    </tr>\n",
              "    <tr>\n",
              "      <th>1</th>\n",
              "      <td>2018-01-01</td>\n",
              "      <td>Z305DEMG</td>\n",
              "      <td>ST4000DM000</td>\n",
              "      <td>4000787030016</td>\n",
              "      <td>0</td>\n",
              "      <td>0.0</td>\n",
              "      <td>0.0</td>\n",
              "      <td>3.0</td>\n",
              "      <td>0.0</td>\n",
              "      <td>0.0</td>\n",
              "      <td>0.0</td>\n",
              "      <td>0.0</td>\n",
              "      <td>26.0</td>\n",
              "      <td>NaN</td>\n",
              "      <td>0.0</td>\n",
              "      <td>0.0</td>\n",
              "      <td>0.0</td>\n",
              "      <td>NaN</td>\n",
              "      <td>NaN</td>\n",
              "    </tr>\n",
              "    <tr>\n",
              "      <th>2</th>\n",
              "      <td>2018-01-01</td>\n",
              "      <td>Z3023VGH</td>\n",
              "      <td>ST4000DM000</td>\n",
              "      <td>4000787030016</td>\n",
              "      <td>0</td>\n",
              "      <td>0.0</td>\n",
              "      <td>0.0</td>\n",
              "      <td>15.0</td>\n",
              "      <td>0.0</td>\n",
              "      <td>0.0</td>\n",
              "      <td>0.0</td>\n",
              "      <td>0.0</td>\n",
              "      <td>29.0</td>\n",
              "      <td>NaN</td>\n",
              "      <td>0.0</td>\n",
              "      <td>0.0</td>\n",
              "      <td>0.0</td>\n",
              "      <td>NaN</td>\n",
              "      <td>NaN</td>\n",
              "    </tr>\n",
              "    <tr>\n",
              "      <th>3</th>\n",
              "      <td>2018-01-01</td>\n",
              "      <td>Z305DEMX</td>\n",
              "      <td>ST4000DM000</td>\n",
              "      <td>4000787030016</td>\n",
              "      <td>0</td>\n",
              "      <td>0.0</td>\n",
              "      <td>0.0</td>\n",
              "      <td>7.0</td>\n",
              "      <td>0.0</td>\n",
              "      <td>0.0</td>\n",
              "      <td>0.0</td>\n",
              "      <td>0.0</td>\n",
              "      <td>28.0</td>\n",
              "      <td>NaN</td>\n",
              "      <td>0.0</td>\n",
              "      <td>0.0</td>\n",
              "      <td>0.0</td>\n",
              "      <td>NaN</td>\n",
              "      <td>NaN</td>\n",
              "    </tr>\n",
              "    <tr>\n",
              "      <th>4</th>\n",
              "      <td>2018-01-01</td>\n",
              "      <td>Z306WYZZ</td>\n",
              "      <td>ST4000DM000</td>\n",
              "      <td>4000787030016</td>\n",
              "      <td>0</td>\n",
              "      <td>0.0</td>\n",
              "      <td>0.0</td>\n",
              "      <td>5.0</td>\n",
              "      <td>0.0</td>\n",
              "      <td>0.0</td>\n",
              "      <td>0.0</td>\n",
              "      <td>0.0</td>\n",
              "      <td>22.0</td>\n",
              "      <td>NaN</td>\n",
              "      <td>0.0</td>\n",
              "      <td>0.0</td>\n",
              "      <td>0.0</td>\n",
              "      <td>NaN</td>\n",
              "      <td>NaN</td>\n",
              "    </tr>\n",
              "  </tbody>\n",
              "</table>\n",
              "</div>"
            ],
            "text/plain": [
              "         date serial_number        model  capacity_bytes  failure  \\\n",
              "0  2018-01-01      Z305B2QN  ST4000DM000   4000787030016        0   \n",
              "1  2018-01-01      Z305DEMG  ST4000DM000   4000787030016        0   \n",
              "2  2018-01-01      Z3023VGH  ST4000DM000   4000787030016        0   \n",
              "3  2018-01-01      Z305DEMX  ST4000DM000   4000787030016        0   \n",
              "4  2018-01-01      Z306WYZZ  ST4000DM000   4000787030016        0   \n",
              "\n",
              "   smart_5_raw  smart_10_raw  smart_12_raw  smart_184_raw  smart_187_raw  \\\n",
              "0          0.0           0.0          10.0            0.0            0.0   \n",
              "1          0.0           0.0           3.0            0.0            0.0   \n",
              "2          0.0           0.0          15.0            0.0            0.0   \n",
              "3          0.0           0.0           7.0            0.0            0.0   \n",
              "4          0.0           0.0           5.0            0.0            0.0   \n",
              "\n",
              "   smart_188_raw  smart_189_raw  smart_190_raw  smart_196_raw  smart_197_raw  \\\n",
              "0            0.0            0.0           23.0            NaN            0.0   \n",
              "1            0.0            0.0           26.0            NaN            0.0   \n",
              "2            0.0            0.0           29.0            NaN            0.0   \n",
              "3            0.0            0.0           28.0            NaN            0.0   \n",
              "4            0.0            0.0           22.0            NaN            0.0   \n",
              "\n",
              "   smart_198_raw  smart_199_raw  smart_200_raw  smart_201_raw  \n",
              "0            0.0            0.0            NaN            NaN  \n",
              "1            0.0            0.0            NaN            NaN  \n",
              "2            0.0            0.0            NaN            NaN  \n",
              "3            0.0            0.0            NaN            NaN  \n",
              "4            0.0            0.0            NaN            NaN  "
            ]
          },
          "metadata": {
            "tags": []
          },
          "execution_count": 3
        }
      ]
    },
    {
      "cell_type": "code",
      "metadata": {
        "id": "m8OERJKhzvih",
        "colab_type": "code",
        "colab": {}
      },
      "source": [
        "del [df[\"smart_5_raw\"], df[\"smart_10_raw\"], df[\"smart_184_raw\"], df[\"smart_187_raw\"], df[\"smart_188_raw\"], df[\"smart_190_raw\"], df[\"smart_189_raw\"], df[\"smart_197_raw\"], df[\"smart_200_raw\"]]"
      ],
      "execution_count": 0,
      "outputs": []
    },
    {
      "cell_type": "code",
      "metadata": {
        "id": "vIVCM0Ym48pJ",
        "colab_type": "code",
        "outputId": "a781d941-5e8e-433d-f4cd-c4d83fc53350",
        "colab": {
          "base_uri": "https://localhost:8080/",
          "height": 202
        }
      },
      "source": [
        "df.head()"
      ],
      "execution_count": 0,
      "outputs": [
        {
          "output_type": "execute_result",
          "data": {
            "text/html": [
              "<div>\n",
              "<style scoped>\n",
              "    .dataframe tbody tr th:only-of-type {\n",
              "        vertical-align: middle;\n",
              "    }\n",
              "\n",
              "    .dataframe tbody tr th {\n",
              "        vertical-align: top;\n",
              "    }\n",
              "\n",
              "    .dataframe thead th {\n",
              "        text-align: right;\n",
              "    }\n",
              "</style>\n",
              "<table border=\"1\" class=\"dataframe\">\n",
              "  <thead>\n",
              "    <tr style=\"text-align: right;\">\n",
              "      <th></th>\n",
              "      <th>date</th>\n",
              "      <th>serial_number</th>\n",
              "      <th>model</th>\n",
              "      <th>capacity_bytes</th>\n",
              "      <th>failure</th>\n",
              "      <th>smart_12_raw</th>\n",
              "      <th>smart_196_raw</th>\n",
              "      <th>smart_198_raw</th>\n",
              "      <th>smart_199_raw</th>\n",
              "      <th>smart_201_raw</th>\n",
              "    </tr>\n",
              "  </thead>\n",
              "  <tbody>\n",
              "    <tr>\n",
              "      <th>0</th>\n",
              "      <td>2018-01-01</td>\n",
              "      <td>Z305B2QN</td>\n",
              "      <td>ST4000DM000</td>\n",
              "      <td>4000787030016</td>\n",
              "      <td>0</td>\n",
              "      <td>10.0</td>\n",
              "      <td>NaN</td>\n",
              "      <td>0.0</td>\n",
              "      <td>0.0</td>\n",
              "      <td>NaN</td>\n",
              "    </tr>\n",
              "    <tr>\n",
              "      <th>1</th>\n",
              "      <td>2018-01-01</td>\n",
              "      <td>Z305DEMG</td>\n",
              "      <td>ST4000DM000</td>\n",
              "      <td>4000787030016</td>\n",
              "      <td>0</td>\n",
              "      <td>3.0</td>\n",
              "      <td>NaN</td>\n",
              "      <td>0.0</td>\n",
              "      <td>0.0</td>\n",
              "      <td>NaN</td>\n",
              "    </tr>\n",
              "    <tr>\n",
              "      <th>2</th>\n",
              "      <td>2018-01-01</td>\n",
              "      <td>Z3023VGH</td>\n",
              "      <td>ST4000DM000</td>\n",
              "      <td>4000787030016</td>\n",
              "      <td>0</td>\n",
              "      <td>15.0</td>\n",
              "      <td>NaN</td>\n",
              "      <td>0.0</td>\n",
              "      <td>0.0</td>\n",
              "      <td>NaN</td>\n",
              "    </tr>\n",
              "    <tr>\n",
              "      <th>3</th>\n",
              "      <td>2018-01-01</td>\n",
              "      <td>Z305DEMX</td>\n",
              "      <td>ST4000DM000</td>\n",
              "      <td>4000787030016</td>\n",
              "      <td>0</td>\n",
              "      <td>7.0</td>\n",
              "      <td>NaN</td>\n",
              "      <td>0.0</td>\n",
              "      <td>0.0</td>\n",
              "      <td>NaN</td>\n",
              "    </tr>\n",
              "    <tr>\n",
              "      <th>4</th>\n",
              "      <td>2018-01-01</td>\n",
              "      <td>Z306WYZZ</td>\n",
              "      <td>ST4000DM000</td>\n",
              "      <td>4000787030016</td>\n",
              "      <td>0</td>\n",
              "      <td>5.0</td>\n",
              "      <td>NaN</td>\n",
              "      <td>0.0</td>\n",
              "      <td>0.0</td>\n",
              "      <td>NaN</td>\n",
              "    </tr>\n",
              "  </tbody>\n",
              "</table>\n",
              "</div>"
            ],
            "text/plain": [
              "         date serial_number        model  capacity_bytes  failure  \\\n",
              "0  2018-01-01      Z305B2QN  ST4000DM000   4000787030016        0   \n",
              "1  2018-01-01      Z305DEMG  ST4000DM000   4000787030016        0   \n",
              "2  2018-01-01      Z3023VGH  ST4000DM000   4000787030016        0   \n",
              "3  2018-01-01      Z305DEMX  ST4000DM000   4000787030016        0   \n",
              "4  2018-01-01      Z306WYZZ  ST4000DM000   4000787030016        0   \n",
              "\n",
              "   smart_12_raw  smart_196_raw  smart_198_raw  smart_199_raw  smart_201_raw  \n",
              "0          10.0            NaN            0.0            0.0            NaN  \n",
              "1           3.0            NaN            0.0            0.0            NaN  \n",
              "2          15.0            NaN            0.0            0.0            NaN  \n",
              "3           7.0            NaN            0.0            0.0            NaN  \n",
              "4           5.0            NaN            0.0            0.0            NaN  "
            ]
          },
          "metadata": {
            "tags": []
          },
          "execution_count": 5
        }
      ]
    },
    {
      "cell_type": "markdown",
      "metadata": {
        "id": "pF6Qg5ZUWaCx",
        "colab_type": "text"
      },
      "source": [
        "# Getting time to end"
      ]
    },
    {
      "cell_type": "code",
      "metadata": {
        "id": "61IDTHeKWoAl",
        "colab_type": "code",
        "colab": {}
      },
      "source": [
        "df['date'] =  pd.to_datetime(df['date'])"
      ],
      "execution_count": 0,
      "outputs": []
    },
    {
      "cell_type": "code",
      "metadata": {
        "id": "P7MbNKefWoJv",
        "colab_type": "code",
        "colab": {}
      },
      "source": [
        "df_fails = df[df[\"failure\"]==1]\n",
        "\n",
        "#Serial Numbers of Failed Drives\n",
        "serial_withFailure = df_fails[\"serial_number\"]\n",
        "\n",
        "#Putting it into a list\n",
        "failure_list = list(serial_withFailure)\n",
        "\n",
        "#Getting all rows for serial numbers which eventually fail\n",
        "sure_failure = df[df[\"serial_number\"].isin(failure_list)]"
      ],
      "execution_count": 0,
      "outputs": []
    },
    {
      "cell_type": "code",
      "metadata": {
        "id": "wWbyNTnXXDqm",
        "colab_type": "code",
        "outputId": "d7599511-9916-4542-af57-d9b3cf2fb320",
        "colab": {
          "base_uri": "https://localhost:8080/",
          "height": 35
        }
      },
      "source": [
        "sure_failure.serial_number.nunique()"
      ],
      "execution_count": 0,
      "outputs": [
        {
          "output_type": "execute_result",
          "data": {
            "text/plain": [
              "581"
            ]
          },
          "metadata": {
            "tags": []
          },
          "execution_count": 9
        }
      ]
    },
    {
      "cell_type": "code",
      "metadata": {
        "id": "nZiYxAMtXDuR",
        "colab_type": "code",
        "outputId": "29eb2aa4-8c0c-4625-e238-9c41973ed987",
        "colab": {
          "base_uri": "https://localhost:8080/",
          "height": 121
        }
      },
      "source": [
        "#Pick the Most Recent date (which is failure day)\n",
        "sure_failure[\"end_date\"] = sure_failure.groupby(\"serial_number\")[\"date\"].transform(\"max\")"
      ],
      "execution_count": 0,
      "outputs": [
        {
          "output_type": "stream",
          "text": [
            "/usr/local/lib/python3.6/dist-packages/ipykernel_launcher.py:1: SettingWithCopyWarning: \n",
            "A value is trying to be set on a copy of a slice from a DataFrame.\n",
            "Try using .loc[row_indexer,col_indexer] = value instead\n",
            "\n",
            "See the caveats in the documentation: http://pandas.pydata.org/pandas-docs/stable/indexing.html#indexing-view-versus-copy\n",
            "  \"\"\"Entry point for launching an IPython kernel.\n"
          ],
          "name": "stderr"
        }
      ]
    },
    {
      "cell_type": "code",
      "metadata": {
        "id": "SehARbTbXlDF",
        "colab_type": "code",
        "colab": {}
      },
      "source": [
        "df = df.join(sure_failure[\"end_date\"])"
      ],
      "execution_count": 0,
      "outputs": []
    },
    {
      "cell_type": "code",
      "metadata": {
        "id": "lAzEngkhXk_I",
        "colab_type": "code",
        "outputId": "fcc1b7e1-953c-4a0d-dda0-72f4181e8fce",
        "colab": {
          "base_uri": "https://localhost:8080/",
          "height": 202
        }
      },
      "source": [
        "df.sample(5)"
      ],
      "execution_count": 0,
      "outputs": [
        {
          "output_type": "execute_result",
          "data": {
            "text/html": [
              "<div>\n",
              "<style scoped>\n",
              "    .dataframe tbody tr th:only-of-type {\n",
              "        vertical-align: middle;\n",
              "    }\n",
              "\n",
              "    .dataframe tbody tr th {\n",
              "        vertical-align: top;\n",
              "    }\n",
              "\n",
              "    .dataframe thead th {\n",
              "        text-align: right;\n",
              "    }\n",
              "</style>\n",
              "<table border=\"1\" class=\"dataframe\">\n",
              "  <thead>\n",
              "    <tr style=\"text-align: right;\">\n",
              "      <th></th>\n",
              "      <th>date</th>\n",
              "      <th>serial_number</th>\n",
              "      <th>model</th>\n",
              "      <th>capacity_bytes</th>\n",
              "      <th>failure</th>\n",
              "      <th>smart_12_raw</th>\n",
              "      <th>smart_196_raw</th>\n",
              "      <th>smart_198_raw</th>\n",
              "      <th>smart_199_raw</th>\n",
              "      <th>smart_201_raw</th>\n",
              "      <th>end_date</th>\n",
              "    </tr>\n",
              "  </thead>\n",
              "  <tbody>\n",
              "    <tr>\n",
              "      <th>1435832</th>\n",
              "      <td>2018-02-15</td>\n",
              "      <td>Z302SXPW</td>\n",
              "      <td>ST4000DM000</td>\n",
              "      <td>4000787030016</td>\n",
              "      <td>0</td>\n",
              "      <td>9.0</td>\n",
              "      <td>NaN</td>\n",
              "      <td>0.0</td>\n",
              "      <td>0.0</td>\n",
              "      <td>NaN</td>\n",
              "      <td>NaT</td>\n",
              "    </tr>\n",
              "    <tr>\n",
              "      <th>9941095</th>\n",
              "      <td>2018-12-29</td>\n",
              "      <td>S300XAJW</td>\n",
              "      <td>ST4000DM000</td>\n",
              "      <td>4000787030016</td>\n",
              "      <td>0</td>\n",
              "      <td>0.0</td>\n",
              "      <td>0.0</td>\n",
              "      <td>18.0</td>\n",
              "      <td>0.0</td>\n",
              "      <td>129503.0</td>\n",
              "      <td>NaT</td>\n",
              "    </tr>\n",
              "    <tr>\n",
              "      <th>1374020</th>\n",
              "      <td>2018-02-13</td>\n",
              "      <td>Z300XEM8</td>\n",
              "      <td>ST4000DM000</td>\n",
              "      <td>4000787030016</td>\n",
              "      <td>0</td>\n",
              "      <td>20.0</td>\n",
              "      <td>NaN</td>\n",
              "      <td>0.0</td>\n",
              "      <td>0.0</td>\n",
              "      <td>NaN</td>\n",
              "      <td>NaT</td>\n",
              "    </tr>\n",
              "    <tr>\n",
              "      <th>2693347</th>\n",
              "      <td>2018-03-27</td>\n",
              "      <td>Z305AQME</td>\n",
              "      <td>ST4000DM000</td>\n",
              "      <td>4000787030016</td>\n",
              "      <td>0</td>\n",
              "      <td>8.0</td>\n",
              "      <td>NaN</td>\n",
              "      <td>0.0</td>\n",
              "      <td>0.0</td>\n",
              "      <td>NaN</td>\n",
              "      <td>NaT</td>\n",
              "    </tr>\n",
              "    <tr>\n",
              "      <th>3312236</th>\n",
              "      <td>2018-04-17</td>\n",
              "      <td>Z305D4PV</td>\n",
              "      <td>ST4000DM000</td>\n",
              "      <td>4000787030016</td>\n",
              "      <td>0</td>\n",
              "      <td>9.0</td>\n",
              "      <td>29.0</td>\n",
              "      <td>NaN</td>\n",
              "      <td>0.0</td>\n",
              "      <td>0.0</td>\n",
              "      <td>NaT</td>\n",
              "    </tr>\n",
              "  </tbody>\n",
              "</table>\n",
              "</div>"
            ],
            "text/plain": [
              "              date serial_number        model  capacity_bytes  failure  \\\n",
              "1435832 2018-02-15      Z302SXPW  ST4000DM000   4000787030016        0   \n",
              "9941095 2018-12-29      S300XAJW  ST4000DM000   4000787030016        0   \n",
              "1374020 2018-02-13      Z300XEM8  ST4000DM000   4000787030016        0   \n",
              "2693347 2018-03-27      Z305AQME  ST4000DM000   4000787030016        0   \n",
              "3312236 2018-04-17      Z305D4PV  ST4000DM000   4000787030016        0   \n",
              "\n",
              "         smart_12_raw  smart_196_raw  smart_198_raw  smart_199_raw  \\\n",
              "1435832           9.0            NaN            0.0            0.0   \n",
              "9941095           0.0            0.0           18.0            0.0   \n",
              "1374020          20.0            NaN            0.0            0.0   \n",
              "2693347           8.0            NaN            0.0            0.0   \n",
              "3312236           9.0           29.0            NaN            0.0   \n",
              "\n",
              "         smart_201_raw end_date  \n",
              "1435832            NaN      NaT  \n",
              "9941095       129503.0      NaT  \n",
              "1374020            NaN      NaT  \n",
              "2693347            NaN      NaT  \n",
              "3312236            0.0      NaT  "
            ]
          },
          "metadata": {
            "tags": []
          },
          "execution_count": 14
        }
      ]
    },
    {
      "cell_type": "code",
      "metadata": {
        "id": "2TZoOY3LXmH2",
        "colab_type": "code",
        "colab": {}
      },
      "source": [
        "df[\"time_to_end\"] = df[\"end_date\"].sub(df[\"date\"], axis=0)"
      ],
      "execution_count": 0,
      "outputs": []
    },
    {
      "cell_type": "code",
      "metadata": {
        "id": "iE2GYMNbXy7W",
        "colab_type": "code",
        "outputId": "c1e608f5-1a53-4774-8bd4-7fec2e24e3bb",
        "colab": {
          "base_uri": "https://localhost:8080/",
          "height": 173
        }
      },
      "source": [
        "df[\"time_to_end\"].describe()"
      ],
      "execution_count": 0,
      "outputs": [
        {
          "output_type": "execute_result",
          "data": {
            "text/plain": [
              "count                       97236\n",
              "mean     117 days 09:21:14.639022\n",
              "std       84 days 02:39:30.036535\n",
              "min               0 days 00:00:00\n",
              "25%              46 days 00:00:00\n",
              "50%             104 days 00:00:00\n",
              "75%             175 days 00:00:00\n",
              "max             363 days 00:00:00\n",
              "Name: time_to_end, dtype: object"
            ]
          },
          "metadata": {
            "tags": []
          },
          "execution_count": 16
        }
      ]
    },
    {
      "cell_type": "code",
      "metadata": {
        "id": "DKh8PhUCXy38",
        "colab_type": "code",
        "outputId": "2cd09ac4-29b3-48ac-f143-c23fd98aa00d",
        "colab": {
          "base_uri": "https://localhost:8080/",
          "height": 243
        }
      },
      "source": [
        "df.dtypes"
      ],
      "execution_count": 0,
      "outputs": [
        {
          "output_type": "execute_result",
          "data": {
            "text/plain": [
              "date               datetime64[ns]\n",
              "serial_number              object\n",
              "model                      object\n",
              "capacity_bytes              int64\n",
              "failure                     int64\n",
              "smart_12_raw              float64\n",
              "smart_196_raw             float64\n",
              "smart_198_raw             float64\n",
              "smart_199_raw             float64\n",
              "smart_201_raw             float64\n",
              "end_date           datetime64[ns]\n",
              "time_to_end       timedelta64[ns]\n",
              "dtype: object"
            ]
          },
          "metadata": {
            "tags": []
          },
          "execution_count": 18
        }
      ]
    },
    {
      "cell_type": "code",
      "metadata": {
        "id": "I1Wj5xG8YSrF",
        "colab_type": "code",
        "colab": {}
      },
      "source": [
        "df.time_to_end = df.time_to_end.dt.days"
      ],
      "execution_count": 0,
      "outputs": []
    },
    {
      "cell_type": "code",
      "metadata": {
        "id": "cQ8oRY3zYWZV",
        "colab_type": "code",
        "outputId": "9543abe3-ea44-4ab0-a80e-33fea45917ff",
        "colab": {
          "base_uri": "https://localhost:8080/",
          "height": 243
        }
      },
      "source": [
        "df.dtypes"
      ],
      "execution_count": 0,
      "outputs": [
        {
          "output_type": "execute_result",
          "data": {
            "text/plain": [
              "date              datetime64[ns]\n",
              "serial_number             object\n",
              "model                     object\n",
              "capacity_bytes             int64\n",
              "failure                    int64\n",
              "smart_12_raw             float64\n",
              "smart_196_raw            float64\n",
              "smart_198_raw            float64\n",
              "smart_199_raw            float64\n",
              "smart_201_raw            float64\n",
              "end_date          datetime64[ns]\n",
              "time_to_end              float64\n",
              "dtype: object"
            ]
          },
          "metadata": {
            "tags": []
          },
          "execution_count": 20
        }
      ]
    },
    {
      "cell_type": "code",
      "metadata": {
        "id": "URQJQ1ZQ67AF",
        "colab_type": "code",
        "outputId": "6f360560-ddda-44e7-e67f-6197313d9323",
        "colab": {
          "base_uri": "https://localhost:8080/",
          "height": 202
        }
      },
      "source": [
        "df.head()"
      ],
      "execution_count": 0,
      "outputs": [
        {
          "output_type": "execute_result",
          "data": {
            "text/html": [
              "<div>\n",
              "<style scoped>\n",
              "    .dataframe tbody tr th:only-of-type {\n",
              "        vertical-align: middle;\n",
              "    }\n",
              "\n",
              "    .dataframe tbody tr th {\n",
              "        vertical-align: top;\n",
              "    }\n",
              "\n",
              "    .dataframe thead th {\n",
              "        text-align: right;\n",
              "    }\n",
              "</style>\n",
              "<table border=\"1\" class=\"dataframe\">\n",
              "  <thead>\n",
              "    <tr style=\"text-align: right;\">\n",
              "      <th></th>\n",
              "      <th>date</th>\n",
              "      <th>serial_number</th>\n",
              "      <th>model</th>\n",
              "      <th>capacity_bytes</th>\n",
              "      <th>failure</th>\n",
              "      <th>smart_12_raw</th>\n",
              "      <th>smart_196_raw</th>\n",
              "      <th>smart_198_raw</th>\n",
              "      <th>smart_199_raw</th>\n",
              "      <th>smart_201_raw</th>\n",
              "      <th>end_date</th>\n",
              "      <th>time_to_end</th>\n",
              "    </tr>\n",
              "  </thead>\n",
              "  <tbody>\n",
              "    <tr>\n",
              "      <th>0</th>\n",
              "      <td>2018-01-01</td>\n",
              "      <td>Z305B2QN</td>\n",
              "      <td>ST4000DM000</td>\n",
              "      <td>4000787030016</td>\n",
              "      <td>0</td>\n",
              "      <td>10.0</td>\n",
              "      <td>NaN</td>\n",
              "      <td>0.0</td>\n",
              "      <td>0.0</td>\n",
              "      <td>NaN</td>\n",
              "      <td>NaT</td>\n",
              "      <td>NaN</td>\n",
              "    </tr>\n",
              "    <tr>\n",
              "      <th>1</th>\n",
              "      <td>2018-01-01</td>\n",
              "      <td>Z305DEMG</td>\n",
              "      <td>ST4000DM000</td>\n",
              "      <td>4000787030016</td>\n",
              "      <td>0</td>\n",
              "      <td>3.0</td>\n",
              "      <td>NaN</td>\n",
              "      <td>0.0</td>\n",
              "      <td>0.0</td>\n",
              "      <td>NaN</td>\n",
              "      <td>NaT</td>\n",
              "      <td>NaN</td>\n",
              "    </tr>\n",
              "    <tr>\n",
              "      <th>2</th>\n",
              "      <td>2018-01-01</td>\n",
              "      <td>Z3023VGH</td>\n",
              "      <td>ST4000DM000</td>\n",
              "      <td>4000787030016</td>\n",
              "      <td>0</td>\n",
              "      <td>15.0</td>\n",
              "      <td>NaN</td>\n",
              "      <td>0.0</td>\n",
              "      <td>0.0</td>\n",
              "      <td>NaN</td>\n",
              "      <td>NaT</td>\n",
              "      <td>NaN</td>\n",
              "    </tr>\n",
              "    <tr>\n",
              "      <th>3</th>\n",
              "      <td>2018-01-01</td>\n",
              "      <td>Z305DEMX</td>\n",
              "      <td>ST4000DM000</td>\n",
              "      <td>4000787030016</td>\n",
              "      <td>0</td>\n",
              "      <td>7.0</td>\n",
              "      <td>NaN</td>\n",
              "      <td>0.0</td>\n",
              "      <td>0.0</td>\n",
              "      <td>NaN</td>\n",
              "      <td>NaT</td>\n",
              "      <td>NaN</td>\n",
              "    </tr>\n",
              "    <tr>\n",
              "      <th>4</th>\n",
              "      <td>2018-01-01</td>\n",
              "      <td>Z306WYZZ</td>\n",
              "      <td>ST4000DM000</td>\n",
              "      <td>4000787030016</td>\n",
              "      <td>0</td>\n",
              "      <td>5.0</td>\n",
              "      <td>NaN</td>\n",
              "      <td>0.0</td>\n",
              "      <td>0.0</td>\n",
              "      <td>NaN</td>\n",
              "      <td>NaT</td>\n",
              "      <td>NaN</td>\n",
              "    </tr>\n",
              "  </tbody>\n",
              "</table>\n",
              "</div>"
            ],
            "text/plain": [
              "        date serial_number        model  capacity_bytes  failure  \\\n",
              "0 2018-01-01      Z305B2QN  ST4000DM000   4000787030016        0   \n",
              "1 2018-01-01      Z305DEMG  ST4000DM000   4000787030016        0   \n",
              "2 2018-01-01      Z3023VGH  ST4000DM000   4000787030016        0   \n",
              "3 2018-01-01      Z305DEMX  ST4000DM000   4000787030016        0   \n",
              "4 2018-01-01      Z306WYZZ  ST4000DM000   4000787030016        0   \n",
              "\n",
              "   smart_12_raw  smart_196_raw  smart_198_raw  smart_199_raw  smart_201_raw  \\\n",
              "0          10.0            NaN            0.0            0.0            NaN   \n",
              "1           3.0            NaN            0.0            0.0            NaN   \n",
              "2          15.0            NaN            0.0            0.0            NaN   \n",
              "3           7.0            NaN            0.0            0.0            NaN   \n",
              "4           5.0            NaN            0.0            0.0            NaN   \n",
              "\n",
              "  end_date  time_to_end  \n",
              "0      NaT          NaN  \n",
              "1      NaT          NaN  \n",
              "2      NaT          NaN  \n",
              "3      NaT          NaN  \n",
              "4      NaT          NaN  "
            ]
          },
          "metadata": {
            "tags": []
          },
          "execution_count": 21
        }
      ]
    },
    {
      "cell_type": "code",
      "metadata": {
        "id": "DMkcwB5xYb0w",
        "colab_type": "code",
        "colab": {}
      },
      "source": [
        "import numpy as np\n",
        "df[\"new_failure\"] = np.where(df[\"time_to_end\"]<45, 1, 0)"
      ],
      "execution_count": 0,
      "outputs": []
    },
    {
      "cell_type": "code",
      "metadata": {
        "id": "nZOc2wo-Yb4J",
        "colab_type": "code",
        "outputId": "e561a6d6-7832-4fbc-ba1a-e37201c4d5f2",
        "colab": {
          "base_uri": "https://localhost:8080/",
          "height": 35
        }
      },
      "source": [
        "df.shape"
      ],
      "execution_count": 0,
      "outputs": [
        {
          "output_type": "execute_result",
          "data": {
            "text/plain": [
              "(9992362, 13)"
            ]
          },
          "metadata": {
            "tags": []
          },
          "execution_count": 26
        }
      ]
    },
    {
      "cell_type": "code",
      "metadata": {
        "id": "ptin4TieY_An",
        "colab_type": "code",
        "outputId": "65858808-5859-4d3b-a287-dc8f6464e6a9",
        "colab": {
          "base_uri": "https://localhost:8080/",
          "height": 35
        }
      },
      "source": [
        "df[\"new_failure\"].isnull().any()"
      ],
      "execution_count": 0,
      "outputs": [
        {
          "output_type": "execute_result",
          "data": {
            "text/plain": [
              "False"
            ]
          },
          "metadata": {
            "tags": []
          },
          "execution_count": 30
        }
      ]
    },
    {
      "cell_type": "code",
      "metadata": {
        "id": "3cC2X_6fZQlo",
        "colab_type": "code",
        "outputId": "74a2d1e3-6d85-4d21-898b-fc6136147543",
        "colab": {
          "base_uri": "https://localhost:8080/",
          "height": 289
        }
      },
      "source": [
        "df.head()"
      ],
      "execution_count": 0,
      "outputs": [
        {
          "output_type": "execute_result",
          "data": {
            "text/html": [
              "<div>\n",
              "<style scoped>\n",
              "    .dataframe tbody tr th:only-of-type {\n",
              "        vertical-align: middle;\n",
              "    }\n",
              "\n",
              "    .dataframe tbody tr th {\n",
              "        vertical-align: top;\n",
              "    }\n",
              "\n",
              "    .dataframe thead th {\n",
              "        text-align: right;\n",
              "    }\n",
              "</style>\n",
              "<table border=\"1\" class=\"dataframe\">\n",
              "  <thead>\n",
              "    <tr style=\"text-align: right;\">\n",
              "      <th></th>\n",
              "      <th>date</th>\n",
              "      <th>serial_number</th>\n",
              "      <th>model</th>\n",
              "      <th>capacity_bytes</th>\n",
              "      <th>failure</th>\n",
              "      <th>smart_12_raw</th>\n",
              "      <th>smart_196_raw</th>\n",
              "      <th>smart_198_raw</th>\n",
              "      <th>smart_199_raw</th>\n",
              "      <th>smart_201_raw</th>\n",
              "      <th>end_date</th>\n",
              "      <th>time_to_end</th>\n",
              "      <th>new_failure</th>\n",
              "    </tr>\n",
              "  </thead>\n",
              "  <tbody>\n",
              "    <tr>\n",
              "      <th>0</th>\n",
              "      <td>2018-01-01</td>\n",
              "      <td>Z305B2QN</td>\n",
              "      <td>ST4000DM000</td>\n",
              "      <td>4000787030016</td>\n",
              "      <td>0</td>\n",
              "      <td>10.0</td>\n",
              "      <td>NaN</td>\n",
              "      <td>0.0</td>\n",
              "      <td>0.0</td>\n",
              "      <td>NaN</td>\n",
              "      <td>NaT</td>\n",
              "      <td>NaN</td>\n",
              "      <td>0</td>\n",
              "    </tr>\n",
              "    <tr>\n",
              "      <th>1</th>\n",
              "      <td>2018-01-01</td>\n",
              "      <td>Z305DEMG</td>\n",
              "      <td>ST4000DM000</td>\n",
              "      <td>4000787030016</td>\n",
              "      <td>0</td>\n",
              "      <td>3.0</td>\n",
              "      <td>NaN</td>\n",
              "      <td>0.0</td>\n",
              "      <td>0.0</td>\n",
              "      <td>NaN</td>\n",
              "      <td>NaT</td>\n",
              "      <td>NaN</td>\n",
              "      <td>0</td>\n",
              "    </tr>\n",
              "    <tr>\n",
              "      <th>2</th>\n",
              "      <td>2018-01-01</td>\n",
              "      <td>Z3023VGH</td>\n",
              "      <td>ST4000DM000</td>\n",
              "      <td>4000787030016</td>\n",
              "      <td>0</td>\n",
              "      <td>15.0</td>\n",
              "      <td>NaN</td>\n",
              "      <td>0.0</td>\n",
              "      <td>0.0</td>\n",
              "      <td>NaN</td>\n",
              "      <td>NaT</td>\n",
              "      <td>NaN</td>\n",
              "      <td>0</td>\n",
              "    </tr>\n",
              "    <tr>\n",
              "      <th>3</th>\n",
              "      <td>2018-01-01</td>\n",
              "      <td>Z305DEMX</td>\n",
              "      <td>ST4000DM000</td>\n",
              "      <td>4000787030016</td>\n",
              "      <td>0</td>\n",
              "      <td>7.0</td>\n",
              "      <td>NaN</td>\n",
              "      <td>0.0</td>\n",
              "      <td>0.0</td>\n",
              "      <td>NaN</td>\n",
              "      <td>NaT</td>\n",
              "      <td>NaN</td>\n",
              "      <td>0</td>\n",
              "    </tr>\n",
              "    <tr>\n",
              "      <th>4</th>\n",
              "      <td>2018-01-01</td>\n",
              "      <td>Z306WYZZ</td>\n",
              "      <td>ST4000DM000</td>\n",
              "      <td>4000787030016</td>\n",
              "      <td>0</td>\n",
              "      <td>5.0</td>\n",
              "      <td>NaN</td>\n",
              "      <td>0.0</td>\n",
              "      <td>0.0</td>\n",
              "      <td>NaN</td>\n",
              "      <td>NaT</td>\n",
              "      <td>NaN</td>\n",
              "      <td>0</td>\n",
              "    </tr>\n",
              "  </tbody>\n",
              "</table>\n",
              "</div>"
            ],
            "text/plain": [
              "        date serial_number        model  capacity_bytes  failure  \\\n",
              "0 2018-01-01      Z305B2QN  ST4000DM000   4000787030016        0   \n",
              "1 2018-01-01      Z305DEMG  ST4000DM000   4000787030016        0   \n",
              "2 2018-01-01      Z3023VGH  ST4000DM000   4000787030016        0   \n",
              "3 2018-01-01      Z305DEMX  ST4000DM000   4000787030016        0   \n",
              "4 2018-01-01      Z306WYZZ  ST4000DM000   4000787030016        0   \n",
              "\n",
              "   smart_12_raw  smart_196_raw  smart_198_raw  smart_199_raw  smart_201_raw  \\\n",
              "0          10.0            NaN            0.0            0.0            NaN   \n",
              "1           3.0            NaN            0.0            0.0            NaN   \n",
              "2          15.0            NaN            0.0            0.0            NaN   \n",
              "3           7.0            NaN            0.0            0.0            NaN   \n",
              "4           5.0            NaN            0.0            0.0            NaN   \n",
              "\n",
              "  end_date  time_to_end  new_failure  \n",
              "0      NaT          NaN            0  \n",
              "1      NaT          NaN            0  \n",
              "2      NaT          NaN            0  \n",
              "3      NaT          NaN            0  \n",
              "4      NaT          NaN            0  "
            ]
          },
          "metadata": {
            "tags": []
          },
          "execution_count": 31
        }
      ]
    },
    {
      "cell_type": "markdown",
      "metadata": {
        "id": "fyNHx1IdZXoE",
        "colab_type": "text"
      },
      "source": [
        "# Remove nulls for Smart 196 and 198"
      ]
    },
    {
      "cell_type": "code",
      "metadata": {
        "id": "PuMesokFZqKM",
        "colab_type": "code",
        "colab": {}
      },
      "source": [
        "df = df[np.isfinite(df['smart_196_raw'])]"
      ],
      "execution_count": 0,
      "outputs": []
    },
    {
      "cell_type": "code",
      "metadata": {
        "id": "l3-w74ynZqOZ",
        "colab_type": "code",
        "outputId": "1f1fa5fb-6f94-47a7-a721-3d5e48bdbfa5",
        "colab": {
          "base_uri": "https://localhost:8080/",
          "height": 69
        }
      },
      "source": [
        "\n",
        "df.new_failure.value_counts()"
      ],
      "execution_count": 0,
      "outputs": [
        {
          "output_type": "execute_result",
          "data": {
            "text/plain": [
              "0    7152875\n",
              "1      17060\n",
              "Name: new_failure, dtype: int64"
            ]
          },
          "metadata": {
            "tags": []
          },
          "execution_count": 36
        }
      ]
    },
    {
      "cell_type": "code",
      "metadata": {
        "id": "eDb95d8naLKY",
        "colab_type": "code",
        "outputId": "f29b5b4c-6bb0-4f90-88a5-9f6d3855bb06",
        "colab": {
          "base_uri": "https://localhost:8080/",
          "height": 260
        }
      },
      "source": [
        "df.isnull().sum()"
      ],
      "execution_count": 0,
      "outputs": [
        {
          "output_type": "execute_result",
          "data": {
            "text/plain": [
              "date                    0\n",
              "serial_number           0\n",
              "model                   0\n",
              "capacity_bytes          0\n",
              "failure                 0\n",
              "smart_12_raw            0\n",
              "smart_196_raw           0\n",
              "smart_198_raw     5013239\n",
              "smart_199_raw           0\n",
              "smart_201_raw           0\n",
              "end_date          7115774\n",
              "time_to_end       7115774\n",
              "new_failure             0\n",
              "dtype: int64"
            ]
          },
          "metadata": {
            "tags": []
          },
          "execution_count": 37
        }
      ]
    },
    {
      "cell_type": "code",
      "metadata": {
        "id": "YmEXwyKsaLHr",
        "colab_type": "code",
        "colab": {}
      },
      "source": [
        "df = df[np.isfinite(df['smart_198_raw'])]"
      ],
      "execution_count": 0,
      "outputs": []
    },
    {
      "cell_type": "code",
      "metadata": {
        "id": "6RjMlF7JaLEr",
        "colab_type": "code",
        "outputId": "4f3138b3-33ba-461e-b1af-8357ba1e2e85",
        "colab": {
          "base_uri": "https://localhost:8080/",
          "height": 69
        }
      },
      "source": [
        "df.new_failure.value_counts()"
      ],
      "execution_count": 0,
      "outputs": [
        {
          "output_type": "execute_result",
          "data": {
            "text/plain": [
              "0    2152752\n",
              "1       3944\n",
              "Name: new_failure, dtype: int64"
            ]
          },
          "metadata": {
            "tags": []
          },
          "execution_count": 39
        }
      ]
    },
    {
      "cell_type": "code",
      "metadata": {
        "id": "xZfknA3Rau5L",
        "colab_type": "code",
        "colab": {}
      },
      "source": [
        "del [df[\"time_to_end\"], df[\"end_date\"]]"
      ],
      "execution_count": 0,
      "outputs": []
    },
    {
      "cell_type": "code",
      "metadata": {
        "id": "bhMUq_UFau93",
        "colab_type": "code",
        "outputId": "efb4256f-1d5f-4bab-f5b8-3a73abce8490",
        "colab": {
          "base_uri": "https://localhost:8080/",
          "height": 225
        }
      },
      "source": [
        "df.isnull().sum()"
      ],
      "execution_count": 0,
      "outputs": [
        {
          "output_type": "execute_result",
          "data": {
            "text/plain": [
              "date              0\n",
              "serial_number     0\n",
              "model             0\n",
              "capacity_bytes    0\n",
              "failure           0\n",
              "smart_12_raw      0\n",
              "smart_196_raw     0\n",
              "smart_198_raw     0\n",
              "smart_199_raw     0\n",
              "smart_201_raw     0\n",
              "new_failure       0\n",
              "dtype: int64"
            ]
          },
          "metadata": {
            "tags": []
          },
          "execution_count": 41
        }
      ]
    },
    {
      "cell_type": "code",
      "metadata": {
        "id": "av3ArKNZcQxJ",
        "colab_type": "code",
        "colab": {}
      },
      "source": [
        "del df[\"failure\"]"
      ],
      "execution_count": 0,
      "outputs": []
    },
    {
      "cell_type": "code",
      "metadata": {
        "id": "vP1vvDvWcUlg",
        "colab_type": "code",
        "outputId": "fb80aa22-9a4a-4c41-b8be-98be161bb5aa",
        "colab": {
          "base_uri": "https://localhost:8080/",
          "height": 355
        }
      },
      "source": [
        "df.sample(10)"
      ],
      "execution_count": 0,
      "outputs": [
        {
          "output_type": "execute_result",
          "data": {
            "text/html": [
              "<div>\n",
              "<style scoped>\n",
              "    .dataframe tbody tr th:only-of-type {\n",
              "        vertical-align: middle;\n",
              "    }\n",
              "\n",
              "    .dataframe tbody tr th {\n",
              "        vertical-align: top;\n",
              "    }\n",
              "\n",
              "    .dataframe thead th {\n",
              "        text-align: right;\n",
              "    }\n",
              "</style>\n",
              "<table border=\"1\" class=\"dataframe\">\n",
              "  <thead>\n",
              "    <tr style=\"text-align: right;\">\n",
              "      <th></th>\n",
              "      <th>date</th>\n",
              "      <th>serial_number</th>\n",
              "      <th>model</th>\n",
              "      <th>capacity_bytes</th>\n",
              "      <th>smart_12_raw</th>\n",
              "      <th>smart_196_raw</th>\n",
              "      <th>smart_198_raw</th>\n",
              "      <th>smart_199_raw</th>\n",
              "      <th>smart_201_raw</th>\n",
              "      <th>new_failure</th>\n",
              "    </tr>\n",
              "  </thead>\n",
              "  <tbody>\n",
              "    <tr>\n",
              "      <th>8462868</th>\n",
              "      <td>2018-10-27</td>\n",
              "      <td>Z302BVBH</td>\n",
              "      <td>ST4000DM000</td>\n",
              "      <td>4000787030016</td>\n",
              "      <td>6.0</td>\n",
              "      <td>0.0</td>\n",
              "      <td>22.0</td>\n",
              "      <td>0.0</td>\n",
              "      <td>40260.0</td>\n",
              "      <td>0</td>\n",
              "    </tr>\n",
              "    <tr>\n",
              "      <th>7975683</th>\n",
              "      <td>2018-10-06</td>\n",
              "      <td>Z300ZV0R</td>\n",
              "      <td>ST4000DM000</td>\n",
              "      <td>4000787030016</td>\n",
              "      <td>15.0</td>\n",
              "      <td>0.0</td>\n",
              "      <td>24.0</td>\n",
              "      <td>0.0</td>\n",
              "      <td>72028.0</td>\n",
              "      <td>0</td>\n",
              "    </tr>\n",
              "    <tr>\n",
              "      <th>9058477</th>\n",
              "      <td>2018-11-22</td>\n",
              "      <td>Z305G50R</td>\n",
              "      <td>ST4000DM000</td>\n",
              "      <td>4000787030016</td>\n",
              "      <td>6.0</td>\n",
              "      <td>0.0</td>\n",
              "      <td>21.0</td>\n",
              "      <td>0.0</td>\n",
              "      <td>55037.0</td>\n",
              "      <td>0</td>\n",
              "    </tr>\n",
              "    <tr>\n",
              "      <th>9427533</th>\n",
              "      <td>2018-12-07</td>\n",
              "      <td>Z304YS17</td>\n",
              "      <td>ST4000DM000</td>\n",
              "      <td>4000787030016</td>\n",
              "      <td>13.0</td>\n",
              "      <td>0.0</td>\n",
              "      <td>28.0</td>\n",
              "      <td>0.0</td>\n",
              "      <td>8705.0</td>\n",
              "      <td>0</td>\n",
              "    </tr>\n",
              "    <tr>\n",
              "      <th>7898875</th>\n",
              "      <td>2018-10-03</td>\n",
              "      <td>Z3059HNS</td>\n",
              "      <td>ST4000DM000</td>\n",
              "      <td>4000787030016</td>\n",
              "      <td>5.0</td>\n",
              "      <td>0.0</td>\n",
              "      <td>19.0</td>\n",
              "      <td>0.0</td>\n",
              "      <td>5765.0</td>\n",
              "      <td>0</td>\n",
              "    </tr>\n",
              "    <tr>\n",
              "      <th>8163565</th>\n",
              "      <td>2018-10-14</td>\n",
              "      <td>Z305GX4R</td>\n",
              "      <td>ST4000DM000</td>\n",
              "      <td>4000787030016</td>\n",
              "      <td>2.0</td>\n",
              "      <td>0.0</td>\n",
              "      <td>21.0</td>\n",
              "      <td>0.0</td>\n",
              "      <td>2843.0</td>\n",
              "      <td>0</td>\n",
              "    </tr>\n",
              "    <tr>\n",
              "      <th>9735464</th>\n",
              "      <td>2018-12-20</td>\n",
              "      <td>W30199VK</td>\n",
              "      <td>ST4000DM000</td>\n",
              "      <td>4000787030016</td>\n",
              "      <td>28.0</td>\n",
              "      <td>0.0</td>\n",
              "      <td>26.0</td>\n",
              "      <td>0.0</td>\n",
              "      <td>54579.0</td>\n",
              "      <td>0</td>\n",
              "    </tr>\n",
              "    <tr>\n",
              "      <th>9824995</th>\n",
              "      <td>2018-12-24</td>\n",
              "      <td>Z302G5CC</td>\n",
              "      <td>ST4000DM000</td>\n",
              "      <td>4000787030016</td>\n",
              "      <td>12.0</td>\n",
              "      <td>0.0</td>\n",
              "      <td>17.0</td>\n",
              "      <td>0.0</td>\n",
              "      <td>54465.0</td>\n",
              "      <td>0</td>\n",
              "    </tr>\n",
              "    <tr>\n",
              "      <th>9437998</th>\n",
              "      <td>2018-12-08</td>\n",
              "      <td>Z302EQNX</td>\n",
              "      <td>ST4000DM000</td>\n",
              "      <td>4000787030016</td>\n",
              "      <td>12.0</td>\n",
              "      <td>0.0</td>\n",
              "      <td>16.0</td>\n",
              "      <td>0.0</td>\n",
              "      <td>56756.0</td>\n",
              "      <td>0</td>\n",
              "    </tr>\n",
              "    <tr>\n",
              "      <th>8748271</th>\n",
              "      <td>2018-11-08</td>\n",
              "      <td>S300Z5CH</td>\n",
              "      <td>ST4000DM000</td>\n",
              "      <td>4000787030016</td>\n",
              "      <td>5.0</td>\n",
              "      <td>0.0</td>\n",
              "      <td>22.0</td>\n",
              "      <td>0.0</td>\n",
              "      <td>40513.0</td>\n",
              "      <td>0</td>\n",
              "    </tr>\n",
              "  </tbody>\n",
              "</table>\n",
              "</div>"
            ],
            "text/plain": [
              "              date serial_number        model  capacity_bytes  smart_12_raw  \\\n",
              "8462868 2018-10-27      Z302BVBH  ST4000DM000   4000787030016           6.0   \n",
              "7975683 2018-10-06      Z300ZV0R  ST4000DM000   4000787030016          15.0   \n",
              "9058477 2018-11-22      Z305G50R  ST4000DM000   4000787030016           6.0   \n",
              "9427533 2018-12-07      Z304YS17  ST4000DM000   4000787030016          13.0   \n",
              "7898875 2018-10-03      Z3059HNS  ST4000DM000   4000787030016           5.0   \n",
              "8163565 2018-10-14      Z305GX4R  ST4000DM000   4000787030016           2.0   \n",
              "9735464 2018-12-20      W30199VK  ST4000DM000   4000787030016          28.0   \n",
              "9824995 2018-12-24      Z302G5CC  ST4000DM000   4000787030016          12.0   \n",
              "9437998 2018-12-08      Z302EQNX  ST4000DM000   4000787030016          12.0   \n",
              "8748271 2018-11-08      S300Z5CH  ST4000DM000   4000787030016           5.0   \n",
              "\n",
              "         smart_196_raw  smart_198_raw  smart_199_raw  smart_201_raw  \\\n",
              "8462868            0.0           22.0            0.0        40260.0   \n",
              "7975683            0.0           24.0            0.0        72028.0   \n",
              "9058477            0.0           21.0            0.0        55037.0   \n",
              "9427533            0.0           28.0            0.0         8705.0   \n",
              "7898875            0.0           19.0            0.0         5765.0   \n",
              "8163565            0.0           21.0            0.0         2843.0   \n",
              "9735464            0.0           26.0            0.0        54579.0   \n",
              "9824995            0.0           17.0            0.0        54465.0   \n",
              "9437998            0.0           16.0            0.0        56756.0   \n",
              "8748271            0.0           22.0            0.0        40513.0   \n",
              "\n",
              "         new_failure  \n",
              "8462868            0  \n",
              "7975683            0  \n",
              "9058477            0  \n",
              "9427533            0  \n",
              "7898875            0  \n",
              "8163565            0  \n",
              "9735464            0  \n",
              "9824995            0  \n",
              "9437998            0  \n",
              "8748271            0  "
            ]
          },
          "metadata": {
            "tags": []
          },
          "execution_count": 43
        }
      ]
    },
    {
      "cell_type": "markdown",
      "metadata": {
        "id": "QYubHRp0b0Dp",
        "colab_type": "text"
      },
      "source": [
        "# Save dataframe"
      ]
    },
    {
      "cell_type": "code",
      "metadata": {
        "id": "nHOOIFUUbNJq",
        "colab_type": "code",
        "colab": {}
      },
      "source": [
        "df.to_csv(\"/content/drive/My Drive/Latest.csv\", index=None, header=True)"
      ],
      "execution_count": 0,
      "outputs": []
    },
    {
      "cell_type": "code",
      "metadata": {
        "id": "BfwzqjhObNPd",
        "colab_type": "code",
        "colab": {}
      },
      "source": [
        ""
      ],
      "execution_count": 0,
      "outputs": []
    },
    {
      "cell_type": "code",
      "metadata": {
        "id": "Vafa64Cxav3J",
        "colab_type": "code",
        "colab": {}
      },
      "source": [
        ""
      ],
      "execution_count": 0,
      "outputs": []
    }
  ]
}